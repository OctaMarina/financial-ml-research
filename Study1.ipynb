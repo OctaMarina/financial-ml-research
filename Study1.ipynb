{
 "cells": [
  {
   "cell_type": "markdown",
   "id": "8bb7b4de349d9567",
   "metadata": {},
   "source": [
    "# Get the dataset"
   ]
  },
  {
   "cell_type": "code",
   "execution_count": 2,
   "id": "739f7b8e3b5b8553",
   "metadata": {
    "ExecuteTime": {
     "end_time": "2025-10-11T09:33:18.785489Z",
     "start_time": "2025-10-11T09:33:18.363794Z"
    },
    "collapsed": true
   },
   "outputs": [],
   "source": [
    "import pandas as pd"
   ]
  },
  {
   "cell_type": "code",
   "execution_count": 3,
   "id": "2c5dfd882624e89f",
   "metadata": {
    "ExecuteTime": {
     "end_time": "2025-10-11T09:34:42.975140Z",
     "start_time": "2025-10-11T09:33:19.365615Z"
    }
   },
   "outputs": [],
   "source": [
    "df = pd.read_csv('./dataset/BTCUSDT-trades-2025-01.csv')"
   ]
  },
  {
   "cell_type": "code",
   "execution_count": 4,
   "id": "348b892b1b2a270d",
   "metadata": {
    "ExecuteTime": {
     "end_time": "2025-10-11T09:34:43.089761Z",
     "start_time": "2025-10-11T09:34:43.082124Z"
    }
   },
   "outputs": [
    {
     "data": {
      "text/plain": [
       "(135946514, 7)"
      ]
     },
     "execution_count": 4,
     "metadata": {},
     "output_type": "execute_result"
    }
   ],
   "source": [
    "df.shape"
   ]
  },
  {
   "cell_type": "code",
   "execution_count": 5,
   "id": "9aeebe14d6b89b63",
   "metadata": {
    "ExecuteTime": {
     "end_time": "2025-10-11T09:34:43.177908Z",
     "start_time": "2025-10-11T09:34:43.156566Z"
    }
   },
   "outputs": [
    {
     "data": {
      "text/html": [
       "<div>\n",
       "<style scoped>\n",
       "    .dataframe tbody tr th:only-of-type {\n",
       "        vertical-align: middle;\n",
       "    }\n",
       "\n",
       "    .dataframe tbody tr th {\n",
       "        vertical-align: top;\n",
       "    }\n",
       "\n",
       "    .dataframe thead th {\n",
       "        text-align: right;\n",
       "    }\n",
       "</style>\n",
       "<table border=\"1\" class=\"dataframe\">\n",
       "  <thead>\n",
       "    <tr style=\"text-align: right;\">\n",
       "      <th></th>\n",
       "      <th>trade_id</th>\n",
       "      <th>price</th>\n",
       "      <th>qty</th>\n",
       "      <th>quote_qty</th>\n",
       "      <th>time</th>\n",
       "      <th>is_buyer_maker</th>\n",
       "      <th>is_best_match</th>\n",
       "    </tr>\n",
       "  </thead>\n",
       "  <tbody>\n",
       "    <tr>\n",
       "      <th>0</th>\n",
       "      <td>4359935387</td>\n",
       "      <td>93576.00</td>\n",
       "      <td>0.00212</td>\n",
       "      <td>198.381120</td>\n",
       "      <td>1735689600074095</td>\n",
       "      <td>True</td>\n",
       "      <td>True</td>\n",
       "    </tr>\n",
       "    <tr>\n",
       "      <th>1</th>\n",
       "      <td>4359935388</td>\n",
       "      <td>93576.00</td>\n",
       "      <td>0.00154</td>\n",
       "      <td>144.107040</td>\n",
       "      <td>1735689600074095</td>\n",
       "      <td>True</td>\n",
       "      <td>True</td>\n",
       "    </tr>\n",
       "    <tr>\n",
       "      <th>2</th>\n",
       "      <td>4359935389</td>\n",
       "      <td>93576.00</td>\n",
       "      <td>0.00241</td>\n",
       "      <td>225.518160</td>\n",
       "      <td>1735689600091046</td>\n",
       "      <td>True</td>\n",
       "      <td>True</td>\n",
       "    </tr>\n",
       "    <tr>\n",
       "      <th>3</th>\n",
       "      <td>4359935390</td>\n",
       "      <td>93576.00</td>\n",
       "      <td>0.00545</td>\n",
       "      <td>509.989200</td>\n",
       "      <td>1735689600091046</td>\n",
       "      <td>True</td>\n",
       "      <td>True</td>\n",
       "    </tr>\n",
       "    <tr>\n",
       "      <th>4</th>\n",
       "      <td>4359935391</td>\n",
       "      <td>93576.01</td>\n",
       "      <td>0.00182</td>\n",
       "      <td>170.308338</td>\n",
       "      <td>1735689600266955</td>\n",
       "      <td>False</td>\n",
       "      <td>True</td>\n",
       "    </tr>\n",
       "  </tbody>\n",
       "</table>\n",
       "</div>"
      ],
      "text/plain": [
       "     trade_id     price      qty   quote_qty              time  \\\n",
       "0  4359935387  93576.00  0.00212  198.381120  1735689600074095   \n",
       "1  4359935388  93576.00  0.00154  144.107040  1735689600074095   \n",
       "2  4359935389  93576.00  0.00241  225.518160  1735689600091046   \n",
       "3  4359935390  93576.00  0.00545  509.989200  1735689600091046   \n",
       "4  4359935391  93576.01  0.00182  170.308338  1735689600266955   \n",
       "\n",
       "   is_buyer_maker  is_best_match  \n",
       "0            True           True  \n",
       "1            True           True  \n",
       "2            True           True  \n",
       "3            True           True  \n",
       "4           False           True  "
      ]
     },
     "execution_count": 5,
     "metadata": {},
     "output_type": "execute_result"
    }
   ],
   "source": [
    "df.columns = [\n",
    "    \"trade_id\",\n",
    "    \"price\",\n",
    "    \"qty\",\n",
    "    \"quote_qty\",\n",
    "    \"time\",\n",
    "    \"is_buyer_maker\",\n",
    "    \"is_best_match\"\n",
    "]\n",
    "\n",
    "\n",
    "df.head()"
   ]
  },
  {
   "cell_type": "code",
   "execution_count": 6,
   "id": "626c433eff4d35b8",
   "metadata": {
    "ExecuteTime": {
     "end_time": "2025-10-11T09:34:44.062981Z",
     "start_time": "2025-10-11T09:34:43.227604Z"
    }
   },
   "outputs": [],
   "source": [
    "df_subset = df[['price','qty','time']]"
   ]
  },
  {
   "cell_type": "code",
   "execution_count": 7,
   "id": "4f2087716cc456d1",
   "metadata": {
    "ExecuteTime": {
     "end_time": "2025-10-11T09:34:44.214009Z",
     "start_time": "2025-10-11T09:34:44.207338Z"
    }
   },
   "outputs": [
    {
     "data": {
      "text/html": [
       "<div>\n",
       "<style scoped>\n",
       "    .dataframe tbody tr th:only-of-type {\n",
       "        vertical-align: middle;\n",
       "    }\n",
       "\n",
       "    .dataframe tbody tr th {\n",
       "        vertical-align: top;\n",
       "    }\n",
       "\n",
       "    .dataframe thead th {\n",
       "        text-align: right;\n",
       "    }\n",
       "</style>\n",
       "<table border=\"1\" class=\"dataframe\">\n",
       "  <thead>\n",
       "    <tr style=\"text-align: right;\">\n",
       "      <th></th>\n",
       "      <th>price</th>\n",
       "      <th>qty</th>\n",
       "      <th>time</th>\n",
       "    </tr>\n",
       "  </thead>\n",
       "  <tbody>\n",
       "    <tr>\n",
       "      <th>0</th>\n",
       "      <td>93576.00</td>\n",
       "      <td>0.00212</td>\n",
       "      <td>1735689600074095</td>\n",
       "    </tr>\n",
       "    <tr>\n",
       "      <th>1</th>\n",
       "      <td>93576.00</td>\n",
       "      <td>0.00154</td>\n",
       "      <td>1735689600074095</td>\n",
       "    </tr>\n",
       "    <tr>\n",
       "      <th>2</th>\n",
       "      <td>93576.00</td>\n",
       "      <td>0.00241</td>\n",
       "      <td>1735689600091046</td>\n",
       "    </tr>\n",
       "    <tr>\n",
       "      <th>3</th>\n",
       "      <td>93576.00</td>\n",
       "      <td>0.00545</td>\n",
       "      <td>1735689600091046</td>\n",
       "    </tr>\n",
       "    <tr>\n",
       "      <th>4</th>\n",
       "      <td>93576.01</td>\n",
       "      <td>0.00182</td>\n",
       "      <td>1735689600266955</td>\n",
       "    </tr>\n",
       "  </tbody>\n",
       "</table>\n",
       "</div>"
      ],
      "text/plain": [
       "      price      qty              time\n",
       "0  93576.00  0.00212  1735689600074095\n",
       "1  93576.00  0.00154  1735689600074095\n",
       "2  93576.00  0.00241  1735689600091046\n",
       "3  93576.00  0.00545  1735689600091046\n",
       "4  93576.01  0.00182  1735689600266955"
      ]
     },
     "execution_count": 7,
     "metadata": {},
     "output_type": "execute_result"
    }
   ],
   "source": [
    "df_subset.head()"
   ]
  },
  {
   "cell_type": "code",
   "execution_count": 8,
   "id": "a2c48fc7e53040c4",
   "metadata": {
    "ExecuteTime": {
     "end_time": "2025-10-11T09:35:04.861448Z",
     "start_time": "2025-10-11T09:34:44.610733Z"
    }
   },
   "outputs": [
    {
     "data": {
      "text/html": [
       "<div>\n",
       "<style scoped>\n",
       "    .dataframe tbody tr th:only-of-type {\n",
       "        vertical-align: middle;\n",
       "    }\n",
       "\n",
       "    .dataframe tbody tr th {\n",
       "        vertical-align: top;\n",
       "    }\n",
       "\n",
       "    .dataframe thead th {\n",
       "        text-align: right;\n",
       "    }\n",
       "</style>\n",
       "<table border=\"1\" class=\"dataframe\">\n",
       "  <thead>\n",
       "    <tr style=\"text-align: right;\">\n",
       "      <th></th>\n",
       "      <th>date_time</th>\n",
       "      <th>price</th>\n",
       "      <th>volume</th>\n",
       "    </tr>\n",
       "  </thead>\n",
       "  <tbody>\n",
       "    <tr>\n",
       "      <th>0</th>\n",
       "      <td>2025-01-01 00:00:00.074095</td>\n",
       "      <td>93576.00</td>\n",
       "      <td>0.00212</td>\n",
       "    </tr>\n",
       "    <tr>\n",
       "      <th>1</th>\n",
       "      <td>2025-01-01 00:00:00.074095</td>\n",
       "      <td>93576.00</td>\n",
       "      <td>0.00154</td>\n",
       "    </tr>\n",
       "    <tr>\n",
       "      <th>2</th>\n",
       "      <td>2025-01-01 00:00:00.091046</td>\n",
       "      <td>93576.00</td>\n",
       "      <td>0.00241</td>\n",
       "    </tr>\n",
       "    <tr>\n",
       "      <th>3</th>\n",
       "      <td>2025-01-01 00:00:00.091046</td>\n",
       "      <td>93576.00</td>\n",
       "      <td>0.00545</td>\n",
       "    </tr>\n",
       "    <tr>\n",
       "      <th>4</th>\n",
       "      <td>2025-01-01 00:00:00.266955</td>\n",
       "      <td>93576.01</td>\n",
       "      <td>0.00182</td>\n",
       "    </tr>\n",
       "  </tbody>\n",
       "</table>\n",
       "</div>"
      ],
      "text/plain": [
       "                   date_time     price   volume\n",
       "0 2025-01-01 00:00:00.074095  93576.00  0.00212\n",
       "1 2025-01-01 00:00:00.074095  93576.00  0.00154\n",
       "2 2025-01-01 00:00:00.091046  93576.00  0.00241\n",
       "3 2025-01-01 00:00:00.091046  93576.00  0.00545\n",
       "4 2025-01-01 00:00:00.266955  93576.01  0.00182"
      ]
     },
     "execution_count": 8,
     "metadata": {},
     "output_type": "execute_result"
    }
   ],
   "source": [
    "df_tick = df_subset.rename(columns={'qty':'volume', 'time':'date_time'})\n",
    "df_tick['date_time'] = pd.to_datetime(df_tick['date_time'], unit='us')\n",
    "df_tick = df_tick.reindex(columns=['date_time','price','volume'])\n",
    "df_tick.head()"
   ]
  },
  {
   "cell_type": "code",
   "execution_count": 9,
   "id": "980fee8c04d0d48b",
   "metadata": {
    "ExecuteTime": {
     "end_time": "2025-10-11T09:35:05.542796Z",
     "start_time": "2025-10-11T09:35:05.526294Z"
    }
   },
   "outputs": [
    {
     "data": {
      "text/html": [
       "<div>\n",
       "<style scoped>\n",
       "    .dataframe tbody tr th:only-of-type {\n",
       "        vertical-align: middle;\n",
       "    }\n",
       "\n",
       "    .dataframe tbody tr th {\n",
       "        vertical-align: top;\n",
       "    }\n",
       "\n",
       "    .dataframe thead th {\n",
       "        text-align: right;\n",
       "    }\n",
       "</style>\n",
       "<table border=\"1\" class=\"dataframe\">\n",
       "  <thead>\n",
       "    <tr style=\"text-align: right;\">\n",
       "      <th></th>\n",
       "      <th>date_time</th>\n",
       "      <th>price</th>\n",
       "      <th>volume</th>\n",
       "    </tr>\n",
       "  </thead>\n",
       "  <tbody>\n",
       "    <tr>\n",
       "      <th>135946509</th>\n",
       "      <td>2025-01-31 23:59:59.923100</td>\n",
       "      <td>102429.56</td>\n",
       "      <td>0.00006</td>\n",
       "    </tr>\n",
       "    <tr>\n",
       "      <th>135946510</th>\n",
       "      <td>2025-01-31 23:59:59.923100</td>\n",
       "      <td>102429.56</td>\n",
       "      <td>0.00006</td>\n",
       "    </tr>\n",
       "    <tr>\n",
       "      <th>135946511</th>\n",
       "      <td>2025-01-31 23:59:59.923100</td>\n",
       "      <td>102429.56</td>\n",
       "      <td>0.00005</td>\n",
       "    </tr>\n",
       "    <tr>\n",
       "      <th>135946512</th>\n",
       "      <td>2025-01-31 23:59:59.923100</td>\n",
       "      <td>102429.56</td>\n",
       "      <td>0.00011</td>\n",
       "    </tr>\n",
       "    <tr>\n",
       "      <th>135946513</th>\n",
       "      <td>2025-01-31 23:59:59.923100</td>\n",
       "      <td>102429.56</td>\n",
       "      <td>0.00128</td>\n",
       "    </tr>\n",
       "  </tbody>\n",
       "</table>\n",
       "</div>"
      ],
      "text/plain": [
       "                           date_time      price   volume\n",
       "135946509 2025-01-31 23:59:59.923100  102429.56  0.00006\n",
       "135946510 2025-01-31 23:59:59.923100  102429.56  0.00006\n",
       "135946511 2025-01-31 23:59:59.923100  102429.56  0.00005\n",
       "135946512 2025-01-31 23:59:59.923100  102429.56  0.00011\n",
       "135946513 2025-01-31 23:59:59.923100  102429.56  0.00128"
      ]
     },
     "execution_count": 9,
     "metadata": {},
     "output_type": "execute_result"
    }
   ],
   "source": [
    "df_tick.tail()"
   ]
  },
  {
   "cell_type": "markdown",
   "id": "c63cd7048eef6c6a",
   "metadata": {},
   "source": [
    "# Volume analysis"
   ]
  },
  {
   "cell_type": "code",
   "execution_count": 10,
   "id": "faa633d1d5916213",
   "metadata": {
    "ExecuteTime": {
     "start_time": "2025-10-11T10:07:23.034822Z"
    },
    "jupyter": {
     "is_executing": true
    }
   },
   "outputs": [
    {
     "data": {
      "text/html": [
       "<div>\n",
       "<style scoped>\n",
       "    .dataframe tbody tr th:only-of-type {\n",
       "        vertical-align: middle;\n",
       "    }\n",
       "\n",
       "    .dataframe tbody tr th {\n",
       "        vertical-align: top;\n",
       "    }\n",
       "\n",
       "    .dataframe thead th {\n",
       "        text-align: right;\n",
       "    }\n",
       "</style>\n",
       "<table border=\"1\" class=\"dataframe\">\n",
       "  <thead>\n",
       "    <tr style=\"text-align: right;\">\n",
       "      <th></th>\n",
       "      <th>volume</th>\n",
       "      <th>price</th>\n",
       "      <th>dollar_value</th>\n",
       "      <th>tick_counts</th>\n",
       "    </tr>\n",
       "    <tr>\n",
       "      <th>date_time</th>\n",
       "      <th></th>\n",
       "      <th></th>\n",
       "      <th></th>\n",
       "      <th></th>\n",
       "    </tr>\n",
       "  </thead>\n",
       "  <tbody>\n",
       "    <tr>\n",
       "      <th>2025-01-01</th>\n",
       "      <td>10373.32477</td>\n",
       "      <td>93576.00</td>\n",
       "      <td>9.754441e+08</td>\n",
       "      <td>1516555.0</td>\n",
       "    </tr>\n",
       "    <tr>\n",
       "      <th>2025-01-02</th>\n",
       "      <td>21970.48948</td>\n",
       "      <td>94591.78</td>\n",
       "      <td>2.118412e+09</td>\n",
       "      <td>3569079.0</td>\n",
       "    </tr>\n",
       "    <tr>\n",
       "      <th>2025-01-03</th>\n",
       "      <td>15253.82936</td>\n",
       "      <td>96984.79</td>\n",
       "      <td>1.486611e+09</td>\n",
       "      <td>2851164.0</td>\n",
       "    </tr>\n",
       "    <tr>\n",
       "      <th>2025-01-04</th>\n",
       "      <td>8990.05651</td>\n",
       "      <td>98174.17</td>\n",
       "      <td>8.812238e+08</td>\n",
       "      <td>1559982.0</td>\n",
       "    </tr>\n",
       "    <tr>\n",
       "      <th>2025-01-05</th>\n",
       "      <td>8095.63723</td>\n",
       "      <td>98220.51</td>\n",
       "      <td>7.939317e+08</td>\n",
       "      <td>1685799.0</td>\n",
       "    </tr>\n",
       "  </tbody>\n",
       "</table>\n",
       "</div>"
      ],
      "text/plain": [
       "                 volume     price  dollar_value  tick_counts\n",
       "date_time                                                   \n",
       "2025-01-01  10373.32477  93576.00  9.754441e+08    1516555.0\n",
       "2025-01-02  21970.48948  94591.78  2.118412e+09    3569079.0\n",
       "2025-01-03  15253.82936  96984.79  1.486611e+09    2851164.0\n",
       "2025-01-04   8990.05651  98174.17  8.812238e+08    1559982.0\n",
       "2025-01-05   8095.63723  98220.51  7.939317e+08    1685799.0"
      ]
     },
     "execution_count": 10,
     "metadata": {},
     "output_type": "execute_result"
    }
   ],
   "source": [
    "import numpy as np\n",
    "df_daily = df_tick.set_index('date_time')\n",
    "df_daily['dollar_value'] = df_daily['price'] * df_daily['volume']\n",
    "df_daily['tick_counts'] = np.ones(len(df_tick))\n",
    "df_daily = df_daily.resample('D').agg({\n",
    "    'volume':'sum',\n",
    "    'price':'first',\n",
    "    'dollar_value':'sum',\n",
    "    'tick_counts':'sum'\n",
    "})\n",
    "df_daily.head()"
   ]
  },
  {
   "cell_type": "code",
   "execution_count": 11,
   "id": "f93a3113a5e12f73",
   "metadata": {
    "ExecuteTime": {
     "end_time": "2025-10-11T10:05:17.094475035Z",
     "start_time": "2025-10-11T10:04:15.400090Z"
    }
   },
   "outputs": [
    {
     "data": {
      "image/png": "[encoded data removed]",
      "text/plain": [
       "<Figure size 640x480 with 1 Axes>"
      ]
     },
     "metadata": {},
     "output_type": "display_data"
    }
   ],
   "source": [
    "import matplotlib.pyplot as plt\n",
    "\n",
    "plt.plot(\n",
    "    df_daily.index,\n",
    "    df_daily['dollar_value'],\n",
    ")\n",
    "plt.xticks(rotation=90)\n",
    "plt.show()"
   ]
  },
  {
   "cell_type": "code",
   "execution_count": 12,
   "id": "cb51aa1e9e8d1588",
   "metadata": {
    "ExecuteTime": {
     "end_time": "2025-10-11T10:06:59.463495Z",
     "start_time": "2025-10-11T10:06:57.805107Z"
    }
   },
   "outputs": [
    {
     "data": {
      "text/plain": [
       "(2803214676.605689, 27888.21732135484, 4385371.419354838)"
      ]
     },
     "execution_count": 12,
     "metadata": {},
     "output_type": "execute_result"
    }
   ],
   "source": [
    "daily_dollar_volume = df_daily['dollar_value'].mean()\n",
    "daily_volume = df_daily['volume'].mean()\n",
    "daily_tick_counts = df_daily['tick_counts'].mean()\n",
    "daily_dollar_volume, daily_volume, daily_tick_counts"
   ]
  },
  {
   "cell_type": "markdown",
   "id": "354d4cda02be88cf",
   "metadata": {},
   "source": [
    "We'll select the threshold using the formula:\n",
    "\n",
    "$\n",
    "\\text{threshold} = \\frac{\\text{Daily volume}}{\\text{Desired daily bar frequency}}\n",
    "$"
   ]
  },
  {
   "cell_type": "code",
   "execution_count": 13,
   "id": "f718c989d7d32f83",
   "metadata": {
    "ExecuteTime": {
     "end_time": "2025-10-11T09:50:24.121860Z",
     "start_time": "2025-10-11T09:50:24.118038Z"
    }
   },
   "outputs": [
    {
     "data": {
      "text/plain": [
       "(29200152.0, 290.0, 45680.0)"
      ]
     },
     "execution_count": 13,
     "metadata": {},
     "output_type": "execute_result"
    }
   ],
   "source": [
    "desired_daily_bar_counts = 96\n",
    "threshold_dollar = daily_dollar_volume // desired_daily_bar_counts\n",
    "threshold_volume = daily_volume // desired_daily_bar_counts\n",
    "threshold_tick = daily_tick_counts // desired_daily_bar_counts\n",
    "\n",
    "threshold_dollar, threshold_volume, threshold_tick"
   ]
  },
  {
   "cell_type": "code",
   "execution_count": 14,
   "id": "f54460868ce863ff",
   "metadata": {
    "ExecuteTime": {
     "end_time": "2025-10-11T09:50:39.030088Z",
     "start_time": "2025-10-11T09:50:37.454253Z"
    }
   },
   "outputs": [],
   "source": [
    "from mlfinpy.data_structure import time_bars, standard_bars"
   ]
  },
  {
   "cell_type": "code",
   "execution_count": 15,
   "id": "f5994366d6f4dc93",
   "metadata": {
    "ExecuteTime": {
     "end_time": "2025-10-11T09:56:33.369598Z",
     "start_time": "2025-10-11T09:50:39.046857Z"
    }
   },
   "outputs": [
    {
     "name": "stdout",
     "output_type": "stream",
     "text": [
      "Reading data in batches:\n",
      "Batch number: 0\n",
      "Batch number: 1\n",
      "Batch number: 2\n",
      "Batch number: 3\n",
      "Batch number: 4\n",
      "Batch number: 5\n",
      "Batch number: 6\n",
      "Batch number: 7\n",
      "Batch number: 8\n",
      "Batch number: 9\n",
      "Batch number: 10\n",
      "Batch number: 11\n",
      "Batch number: 12\n",
      "Batch number: 13\n",
      "Batch number: 14\n",
      "Batch number: 15\n",
      "Batch number: 16\n",
      "Batch number: 17\n",
      "Batch number: 18\n",
      "Batch number: 19\n",
      "Batch number: 20\n",
      "Batch number: 21\n",
      "Batch number: 22\n",
      "Batch number: 23\n",
      "Batch number: 24\n",
      "Batch number: 25\n",
      "Batch number: 26\n",
      "Batch number: 27\n",
      "Batch number: 28\n",
      "Batch number: 29\n",
      "Batch number: 30\n",
      "Batch number: 31\n",
      "Batch number: 32\n",
      "Batch number: 33\n",
      "Batch number: 34\n",
      "Batch number: 35\n",
      "Batch number: 36\n",
      "Batch number: 37\n",
      "Batch number: 38\n",
      "Batch number: 39\n",
      "Batch number: 40\n",
      "Batch number: 41\n",
      "Batch number: 42\n",
      "Batch number: 43\n",
      "Batch number: 44\n",
      "Batch number: 45\n",
      "Batch number: 46\n",
      "Batch number: 47\n",
      "Batch number: 48\n",
      "Batch number: 49\n",
      "Batch number: 50\n",
      "Batch number: 51\n",
      "Batch number: 52\n",
      "Batch number: 53\n",
      "Batch number: 54\n",
      "Batch number: 55\n",
      "Batch number: 56\n",
      "Batch number: 57\n",
      "Batch number: 58\n",
      "Batch number: 59\n",
      "Batch number: 60\n",
      "Batch number: 61\n",
      "Batch number: 62\n",
      "Batch number: 63\n",
      "Batch number: 64\n",
      "Batch number: 65\n",
      "Batch number: 66\n",
      "Batch number: 67\n",
      "Batch number: 68\n",
      "Batch number: 69\n",
      "Batch number: 70\n",
      "Batch number: 71\n",
      "Batch number: 72\n",
      "Batch number: 73\n",
      "Batch number: 74\n",
      "Batch number: 75\n",
      "Batch number: 76\n",
      "Batch number: 77\n",
      "Batch number: 78\n",
      "Batch number: 79\n",
      "Batch number: 80\n",
      "Batch number: 81\n",
      "Batch number: 82\n",
      "Batch number: 83\n",
      "Batch number: 84\n",
      "Batch number: 85\n",
      "Batch number: 86\n",
      "Batch number: 87\n",
      "Batch number: 88\n",
      "Batch number: 89\n",
      "Batch number: 90\n",
      "Batch number: 91\n",
      "Batch number: 92\n",
      "Batch number: 93\n",
      "Batch number: 94\n",
      "Batch number: 95\n",
      "Batch number: 96\n",
      "Batch number: 97\n",
      "Batch number: 98\n",
      "Batch number: 99\n",
      "Batch number: 100\n",
      "Batch number: 101\n",
      "Batch number: 102\n",
      "Batch number: 103\n",
      "Batch number: 104\n",
      "Batch number: 105\n",
      "Batch number: 106\n",
      "Batch number: 107\n",
      "Batch number: 108\n",
      "Batch number: 109\n",
      "Batch number: 110\n",
      "Batch number: 111\n",
      "Batch number: 112\n",
      "Batch number: 113\n",
      "Batch number: 114\n",
      "Batch number: 115\n",
      "Batch number: 116\n",
      "Batch number: 117\n",
      "Batch number: 118\n",
      "Batch number: 119\n",
      "Batch number: 120\n",
      "Batch number: 121\n",
      "Batch number: 122\n",
      "Batch number: 123\n",
      "Batch number: 124\n",
      "Batch number: 125\n",
      "Batch number: 126\n",
      "Batch number: 127\n",
      "Batch number: 128\n",
      "Batch number: 129\n",
      "Batch number: 130\n",
      "Batch number: 131\n",
      "Batch number: 132\n",
      "Batch number: 133\n",
      "Batch number: 134\n",
      "Batch number: 135\n",
      "Returning bars \n",
      "\n"
     ]
    }
   ],
   "source": [
    "dollar = standard_bars.get_dollar_bars(df_tick, threshold=threshold_dollar,\n",
    "                                        batch_size=1000000, verbose=True)"
   ]
  },
  {
   "cell_type": "code",
   "execution_count": 16,
   "id": "2562b44d",
   "metadata": {},
   "outputs": [],
   "source": [
    "# Tick Bars\n",
    "tick = standard_bars.get_tick_bars(df_tick, threshold=threshold_tick,\n",
    "                                    batch_size=1000000, verbose=False)"
   ]
  },
  {
   "cell_type": "code",
   "execution_count": 17,
   "id": "8df22ff2",
   "metadata": {},
   "outputs": [],
   "source": [
    "volume = standard_bars.get_volume_bars(df_tick, threshold=threshold_volume,\n",
    "                                        batch_size=1000000, verbose=False)"
   ]
  },
  {
   "cell_type": "code",
   "execution_count": 18,
   "id": "e42f6cb9ed453080",
   "metadata": {
    "ExecuteTime": {
     "end_time": "2025-10-11T09:59:35.617508Z",
     "start_time": "2025-10-11T09:59:35.604349Z"
    }
   },
   "outputs": [
    {
     "data": {
      "text/plain": [
       "((2974, 10), (2976, 10), (2979, 10))"
      ]
     },
     "execution_count": 18,
     "metadata": {},
     "output_type": "execute_result"
    }
   ],
   "source": [
    "dollar.shape, tick.shape, volume.shape"
   ]
  },
  {
   "cell_type": "code",
   "execution_count": 22,
   "id": "278541df",
   "metadata": {},
   "outputs": [
    {
     "data": {
      "text/html": [
       "<div>\n",
       "<style scoped>\n",
       "    .dataframe tbody tr th:only-of-type {\n",
       "        vertical-align: middle;\n",
       "    }\n",
       "\n",
       "    .dataframe tbody tr th {\n",
       "        vertical-align: top;\n",
       "    }\n",
       "\n",
       "    .dataframe thead th {\n",
       "        text-align: right;\n",
       "    }\n",
       "</style>\n",
       "<table border=\"1\" class=\"dataframe\">\n",
       "  <thead>\n",
       "    <tr style=\"text-align: right;\">\n",
       "      <th></th>\n",
       "      <th>date_time</th>\n",
       "      <th>tick_num</th>\n",
       "      <th>open</th>\n",
       "      <th>high</th>\n",
       "      <th>low</th>\n",
       "      <th>close</th>\n",
       "      <th>volume</th>\n",
       "      <th>cum_buy_volume</th>\n",
       "      <th>cum_ticks</th>\n",
       "      <th>cum_dollar_value</th>\n",
       "    </tr>\n",
       "  </thead>\n",
       "  <tbody>\n",
       "    <tr>\n",
       "      <th>0</th>\n",
       "      <td>2025-01-01 00:34:50.153086</td>\n",
       "      <td>49440</td>\n",
       "      <td>93576.00</td>\n",
       "      <td>93963.67</td>\n",
       "      <td>93489.03</td>\n",
       "      <td>93882.92</td>\n",
       "      <td>312.31474</td>\n",
       "      <td>140.93429</td>\n",
       "      <td>49440</td>\n",
       "      <td>2.926371e+07</td>\n",
       "    </tr>\n",
       "    <tr>\n",
       "      <th>1</th>\n",
       "      <td>2025-01-01 00:58:17.075172</td>\n",
       "      <td>83692</td>\n",
       "      <td>93882.91</td>\n",
       "      <td>94346.52</td>\n",
       "      <td>93836.61</td>\n",
       "      <td>94346.52</td>\n",
       "      <td>310.21286</td>\n",
       "      <td>233.10198</td>\n",
       "      <td>34252</td>\n",
       "      <td>2.920345e+07</td>\n",
       "    </tr>\n",
       "    <tr>\n",
       "      <th>2</th>\n",
       "      <td>2025-01-01 01:05:46.248126</td>\n",
       "      <td>111587</td>\n",
       "      <td>94346.57</td>\n",
       "      <td>94509.42</td>\n",
       "      <td>93909.36</td>\n",
       "      <td>93909.36</td>\n",
       "      <td>310.29506</td>\n",
       "      <td>146.12891</td>\n",
       "      <td>27895</td>\n",
       "      <td>2.923487e+07</td>\n",
       "    </tr>\n",
       "    <tr>\n",
       "      <th>3</th>\n",
       "      <td>2025-01-01 01:50:22.836761</td>\n",
       "      <td>159549</td>\n",
       "      <td>93909.33</td>\n",
       "      <td>94172.00</td>\n",
       "      <td>93813.50</td>\n",
       "      <td>93813.50</td>\n",
       "      <td>310.81994</td>\n",
       "      <td>145.56140</td>\n",
       "      <td>47962</td>\n",
       "      <td>2.920022e+07</td>\n",
       "    </tr>\n",
       "    <tr>\n",
       "      <th>4</th>\n",
       "      <td>2025-01-01 02:52:08.400810</td>\n",
       "      <td>221539</td>\n",
       "      <td>93813.50</td>\n",
       "      <td>94024.06</td>\n",
       "      <td>93578.77</td>\n",
       "      <td>94024.06</td>\n",
       "      <td>311.49943</td>\n",
       "      <td>168.32459</td>\n",
       "      <td>61990</td>\n",
       "      <td>2.920120e+07</td>\n",
       "    </tr>\n",
       "  </tbody>\n",
       "</table>\n",
       "</div>"
      ],
      "text/plain": [
       "                   date_time  tick_num      open      high       low  \\\n",
       "0 2025-01-01 00:34:50.153086     49440  93576.00  93963.67  93489.03   \n",
       "1 2025-01-01 00:58:17.075172     83692  93882.91  94346.52  93836.61   \n",
       "2 2025-01-01 01:05:46.248126    111587  94346.57  94509.42  93909.36   \n",
       "3 2025-01-01 01:50:22.836761    159549  93909.33  94172.00  93813.50   \n",
       "4 2025-01-01 02:52:08.400810    221539  93813.50  94024.06  93578.77   \n",
       "\n",
       "      close     volume  cum_buy_volume  cum_ticks  cum_dollar_value  \n",
       "0  93882.92  312.31474       140.93429      49440      2.926371e+07  \n",
       "1  94346.52  310.21286       233.10198      34252      2.920345e+07  \n",
       "2  93909.36  310.29506       146.12891      27895      2.923487e+07  \n",
       "3  93813.50  310.81994       145.56140      47962      2.920022e+07  \n",
       "4  94024.06  311.49943       168.32459      61990      2.920120e+07  "
      ]
     },
     "execution_count": 22,
     "metadata": {},
     "output_type": "execute_result"
    }
   ],
   "source": [
    "dollar.head()"
   ]
  },
  {
   "cell_type": "code",
   "execution_count": 23,
   "id": "1ceb4cfb",
   "metadata": {},
   "outputs": [
    {
     "data": {
      "text/html": [
       "<div>\n",
       "<style scoped>\n",
       "    .dataframe tbody tr th:only-of-type {\n",
       "        vertical-align: middle;\n",
       "    }\n",
       "\n",
       "    .dataframe tbody tr th {\n",
       "        vertical-align: top;\n",
       "    }\n",
       "\n",
       "    .dataframe thead th {\n",
       "        text-align: right;\n",
       "    }\n",
       "</style>\n",
       "<table border=\"1\" class=\"dataframe\">\n",
       "  <thead>\n",
       "    <tr style=\"text-align: right;\">\n",
       "      <th></th>\n",
       "      <th>date_time</th>\n",
       "      <th>tick_num</th>\n",
       "      <th>open</th>\n",
       "      <th>high</th>\n",
       "      <th>low</th>\n",
       "      <th>close</th>\n",
       "      <th>volume</th>\n",
       "      <th>cum_buy_volume</th>\n",
       "      <th>cum_ticks</th>\n",
       "      <th>cum_dollar_value</th>\n",
       "    </tr>\n",
       "  </thead>\n",
       "  <tbody>\n",
       "    <tr>\n",
       "      <th>0</th>\n",
       "      <td>2025-01-01 00:32:32.519130</td>\n",
       "      <td>46273</td>\n",
       "      <td>93576.00</td>\n",
       "      <td>93940.00</td>\n",
       "      <td>93489.03</td>\n",
       "      <td>93940.00</td>\n",
       "      <td>290.05130</td>\n",
       "      <td>128.99844</td>\n",
       "      <td>46273</td>\n",
       "      <td>2.717276e+07</td>\n",
       "    </tr>\n",
       "    <tr>\n",
       "      <th>1</th>\n",
       "      <td>2025-01-01 00:57:57.067039</td>\n",
       "      <td>82520</td>\n",
       "      <td>93940.00</td>\n",
       "      <td>94330.59</td>\n",
       "      <td>93836.61</td>\n",
       "      <td>94320.00</td>\n",
       "      <td>290.12551</td>\n",
       "      <td>208.66780</td>\n",
       "      <td>36247</td>\n",
       "      <td>2.729984e+07</td>\n",
       "    </tr>\n",
       "    <tr>\n",
       "      <th>2</th>\n",
       "      <td>2025-01-01 01:05:28.341289</td>\n",
       "      <td>109125</td>\n",
       "      <td>94320.00</td>\n",
       "      <td>94509.42</td>\n",
       "      <td>93997.86</td>\n",
       "      <td>94000.00</td>\n",
       "      <td>292.83859</td>\n",
       "      <td>156.24683</td>\n",
       "      <td>26605</td>\n",
       "      <td>2.760956e+07</td>\n",
       "    </tr>\n",
       "    <tr>\n",
       "      <th>3</th>\n",
       "      <td>2025-01-01 01:31:56.527742</td>\n",
       "      <td>143810</td>\n",
       "      <td>94000.00</td>\n",
       "      <td>94172.00</td>\n",
       "      <td>93819.60</td>\n",
       "      <td>93947.67</td>\n",
       "      <td>292.12049</td>\n",
       "      <td>130.53835</td>\n",
       "      <td>34685</td>\n",
       "      <td>2.744654e+07</td>\n",
       "    </tr>\n",
       "    <tr>\n",
       "      <th>4</th>\n",
       "      <td>2025-01-01 02:16:23.680412</td>\n",
       "      <td>195758</td>\n",
       "      <td>93947.67</td>\n",
       "      <td>93978.18</td>\n",
       "      <td>93578.77</td>\n",
       "      <td>93753.02</td>\n",
       "      <td>290.00191</td>\n",
       "      <td>144.23861</td>\n",
       "      <td>51948</td>\n",
       "      <td>2.719289e+07</td>\n",
       "    </tr>\n",
       "  </tbody>\n",
       "</table>\n",
       "</div>"
      ],
      "text/plain": [
       "                   date_time  tick_num      open      high       low  \\\n",
       "0 2025-01-01 00:32:32.519130     46273  93576.00  93940.00  93489.03   \n",
       "1 2025-01-01 00:57:57.067039     82520  93940.00  94330.59  93836.61   \n",
       "2 2025-01-01 01:05:28.341289    109125  94320.00  94509.42  93997.86   \n",
       "3 2025-01-01 01:31:56.527742    143810  94000.00  94172.00  93819.60   \n",
       "4 2025-01-01 02:16:23.680412    195758  93947.67  93978.18  93578.77   \n",
       "\n",
       "      close     volume  cum_buy_volume  cum_ticks  cum_dollar_value  \n",
       "0  93940.00  290.05130       128.99844      46273      2.717276e+07  \n",
       "1  94320.00  290.12551       208.66780      36247      2.729984e+07  \n",
       "2  94000.00  292.83859       156.24683      26605      2.760956e+07  \n",
       "3  93947.67  292.12049       130.53835      34685      2.744654e+07  \n",
       "4  93753.02  290.00191       144.23861      51948      2.719289e+07  "
      ]
     },
     "execution_count": 23,
     "metadata": {},
     "output_type": "execute_result"
    }
   ],
   "source": [
    "volume.head()"
   ]
  },
  {
   "cell_type": "code",
   "execution_count": 24,
   "id": "686356c7",
   "metadata": {},
   "outputs": [
    {
     "data": {
      "text/html": [
       "<div>\n",
       "<style scoped>\n",
       "    .dataframe tbody tr th:only-of-type {\n",
       "        vertical-align: middle;\n",
       "    }\n",
       "\n",
       "    .dataframe tbody tr th {\n",
       "        vertical-align: top;\n",
       "    }\n",
       "\n",
       "    .dataframe thead th {\n",
       "        text-align: right;\n",
       "    }\n",
       "</style>\n",
       "<table border=\"1\" class=\"dataframe\">\n",
       "  <thead>\n",
       "    <tr style=\"text-align: right;\">\n",
       "      <th></th>\n",
       "      <th>date_time</th>\n",
       "      <th>tick_num</th>\n",
       "      <th>open</th>\n",
       "      <th>high</th>\n",
       "      <th>low</th>\n",
       "      <th>close</th>\n",
       "      <th>volume</th>\n",
       "      <th>cum_buy_volume</th>\n",
       "      <th>cum_ticks</th>\n",
       "      <th>cum_dollar_value</th>\n",
       "    </tr>\n",
       "  </thead>\n",
       "  <tbody>\n",
       "    <tr>\n",
       "      <th>0</th>\n",
       "      <td>2025-01-01 00:32:17.079847</td>\n",
       "      <td>45680</td>\n",
       "      <td>93576.00</td>\n",
       "      <td>93920.00</td>\n",
       "      <td>93489.03</td>\n",
       "      <td>93920.00</td>\n",
       "      <td>287.02962</td>\n",
       "      <td>126.06876</td>\n",
       "      <td>45680</td>\n",
       "      <td>2.688892e+07</td>\n",
       "    </tr>\n",
       "    <tr>\n",
       "      <th>1</th>\n",
       "      <td>2025-01-01 00:59:15.685255</td>\n",
       "      <td>91360</td>\n",
       "      <td>93920.00</td>\n",
       "      <td>94509.42</td>\n",
       "      <td>93836.61</td>\n",
       "      <td>94445.71</td>\n",
       "      <td>462.52080</td>\n",
       "      <td>338.41250</td>\n",
       "      <td>45680</td>\n",
       "      <td>4.357197e+07</td>\n",
       "    </tr>\n",
       "    <tr>\n",
       "      <th>2</th>\n",
       "      <td>2025-01-01 01:26:24.346744</td>\n",
       "      <td>137040</td>\n",
       "      <td>94444.02</td>\n",
       "      <td>94444.02</td>\n",
       "      <td>93850.39</td>\n",
       "      <td>93891.44</td>\n",
       "      <td>356.35527</td>\n",
       "      <td>136.69583</td>\n",
       "      <td>45680</td>\n",
       "      <td>3.350755e+07</td>\n",
       "    </tr>\n",
       "    <tr>\n",
       "      <th>3</th>\n",
       "      <td>2025-01-01 02:04:20.592846</td>\n",
       "      <td>182720</td>\n",
       "      <td>93891.44</td>\n",
       "      <td>93989.37</td>\n",
       "      <td>93578.77</td>\n",
       "      <td>93762.99</td>\n",
       "      <td>263.24075</td>\n",
       "      <td>107.73407</td>\n",
       "      <td>45680</td>\n",
       "      <td>2.469117e+07</td>\n",
       "    </tr>\n",
       "    <tr>\n",
       "      <th>4</th>\n",
       "      <td>2025-01-01 02:59:34.115586</td>\n",
       "      <td>228400</td>\n",
       "      <td>93762.99</td>\n",
       "      <td>94105.12</td>\n",
       "      <td>93674.02</td>\n",
       "      <td>94091.10</td>\n",
       "      <td>249.96017</td>\n",
       "      <td>165.89969</td>\n",
       "      <td>45680</td>\n",
       "      <td>2.346122e+07</td>\n",
       "    </tr>\n",
       "  </tbody>\n",
       "</table>\n",
       "</div>"
      ],
      "text/plain": [
       "                   date_time  tick_num      open      high       low  \\\n",
       "0 2025-01-01 00:32:17.079847     45680  93576.00  93920.00  93489.03   \n",
       "1 2025-01-01 00:59:15.685255     91360  93920.00  94509.42  93836.61   \n",
       "2 2025-01-01 01:26:24.346744    137040  94444.02  94444.02  93850.39   \n",
       "3 2025-01-01 02:04:20.592846    182720  93891.44  93989.37  93578.77   \n",
       "4 2025-01-01 02:59:34.115586    228400  93762.99  94105.12  93674.02   \n",
       "\n",
       "      close     volume  cum_buy_volume  cum_ticks  cum_dollar_value  \n",
       "0  93920.00  287.02962       126.06876      45680      2.688892e+07  \n",
       "1  94445.71  462.52080       338.41250      45680      4.357197e+07  \n",
       "2  93891.44  356.35527       136.69583      45680      3.350755e+07  \n",
       "3  93762.99  263.24075       107.73407      45680      2.469117e+07  \n",
       "4  94091.10  249.96017       165.89969      45680      2.346122e+07  "
      ]
     },
     "execution_count": 24,
     "metadata": {},
     "output_type": "execute_result"
    }
   ],
   "source": [
    "tick.head()"
   ]
  },
  {
   "cell_type": "code",
   "execution_count": 25,
   "id": "9bb74ed6",
   "metadata": {},
   "outputs": [
    {
     "data": {
      "text/plain": [
       "Index(['date_time', 'tick_num', 'open', 'high', 'low', 'close', 'volume',\n",
       "       'cum_buy_volume', 'cum_ticks', 'cum_dollar_value'],\n",
       "      dtype='object')"
      ]
     },
     "execution_count": 25,
     "metadata": {},
     "output_type": "execute_result"
    }
   ],
   "source": [
    "dollar.columns"
   ]
  },
  {
   "cell_type": "code",
   "execution_count": 18,
   "id": "9e0494d131e1d010",
   "metadata": {
    "ExecuteTime": {
     "end_time": "2025-10-11T10:00:35.213869Z",
     "start_time": "2025-10-11T10:00:35.199872Z"
    }
   },
   "outputs": [],
   "source": [
    "daily_dollar_freq = dollar.set_index('date_time').resample('D').size()\n",
    "daily_volume_freq = volume.set_index('date_time').resample('D').size()\n",
    "daily_tick_freq = volume.set_index('date_time').resample('D').size()"
   ]
  },
  {
   "cell_type": "code",
   "execution_count": 30,
   "id": "88c953e3fac5159e",
   "metadata": {
    "ExecuteTime": {
     "end_time": "2025-10-11T09:57:46.142274Z",
     "start_time": "2025-10-11T09:57:46.132880Z"
    }
   },
   "outputs": [
    {
     "data": {
      "image/png": "[encoded data removed]",
      "text/plain": [
       "<Figure size 1000x500 with 1 Axes>"
      ]
     },
     "metadata": {},
     "output_type": "display_data"
    }
   ],
   "source": [
    "plt.figure(figsize=(10,5))\n",
    "plt.plot(daily_dollar_freq.index, daily_dollar_freq, label='Daily dollar freq')\n",
    "plt.plot(daily_volume_freq.index, daily_dollar_freq, label='Daily volume freq')\n",
    "plt.plot(daily_tick_freq.index, daily_tick_freq, label='Daily tick freq')\n",
    "plt.title('Daily frequency comparasion')\n",
    "plt.xlabel('Date')\n",
    "plt.ylabel('Frequency')\n",
    "plt.legend()\n",
    "plt.grid(True)\n",
    "plt.xticks(rotation = 45)\n",
    "plt.show()"
   ]
  },
  {
   "cell_type": "code",
   "execution_count": null,
   "id": "7bfa1ced",
   "metadata": {},
   "outputs": [],
   "source": []
  }
 ],
 "metadata": {
  "kernelspec": {
   "display_name": "disertatie",
   "language": "python",
   "name": "python3"
  },
  "language_info": {
   "codemirror_mode": {
    "name": "ipython",
    "version": 3
   },
   "file_extension": ".py",
   "mimetype": "text/x-python",
   "name": "python",
   "nbconvert_exporter": "python",
   "pygments_lexer": "ipython3",
   "version": "3.11.13"
  }
 },
 "nbformat": 4,
 "nbformat_minor": 5
}
