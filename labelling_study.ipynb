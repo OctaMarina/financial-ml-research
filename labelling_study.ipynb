{
 "cells": [
  {
   "cell_type": "markdown",
   "id": "e4a79033",
   "metadata": {},
   "source": [
    "# Labelling\n",
    "\n",
    "In this study I'll use a bitcoin volume bars dataset dating from 04.2024 to 09.2025"
   ]
  },
  {
   "cell_type": "code",
   "execution_count": 19,
   "id": "71ef9adf",
   "metadata": {},
   "outputs": [],
   "source": [
    "import pandas as pd\n",
    "df = pd.read_csv('./dataset/btc-04_2024-09-2025-volume-15min/btc-04_2024-09-2025-volume-15min.csv')"
   ]
  },
  {
   "cell_type": "code",
   "execution_count": 20,
   "id": "8127ddaa",
   "metadata": {},
   "outputs": [
    {
     "data": {
      "text/plain": [
       "(49366, 10)"
      ]
     },
     "execution_count": 20,
     "metadata": {},
     "output_type": "execute_result"
    }
   ],
   "source": [
    "df.shape"
   ]
  },
  {
   "cell_type": "code",
   "execution_count": 21,
   "id": "e421c115",
   "metadata": {},
   "outputs": [
    {
     "data": {
      "text/html": [
       "<div>\n",
       "<style scoped>\n",
       "    .dataframe tbody tr th:only-of-type {\n",
       "        vertical-align: middle;\n",
       "    }\n",
       "\n",
       "    .dataframe tbody tr th {\n",
       "        vertical-align: top;\n",
       "    }\n",
       "\n",
       "    .dataframe thead th {\n",
       "        text-align: right;\n",
       "    }\n",
       "</style>\n",
       "<table border=\"1\" class=\"dataframe\">\n",
       "  <thead>\n",
       "    <tr style=\"text-align: right;\">\n",
       "      <th></th>\n",
       "      <th>date_time</th>\n",
       "      <th>tick_num</th>\n",
       "      <th>open</th>\n",
       "      <th>high</th>\n",
       "      <th>low</th>\n",
       "      <th>close</th>\n",
       "      <th>volume</th>\n",
       "      <th>cum_buy_volume</th>\n",
       "      <th>cum_ticks</th>\n",
       "      <th>cum_dollar_value</th>\n",
       "    </tr>\n",
       "  </thead>\n",
       "  <tbody>\n",
       "    <tr>\n",
       "      <th>0</th>\n",
       "      <td>2024-04-01 00:07:18.265000+00:00</td>\n",
       "      <td>12816</td>\n",
       "      <td>71280.00</td>\n",
       "      <td>71288.23</td>\n",
       "      <td>71107.71</td>\n",
       "      <td>71165.94</td>\n",
       "      <td>290.15586</td>\n",
       "      <td>132.92566</td>\n",
       "      <td>12816</td>\n",
       "      <td>2.065562e+07</td>\n",
       "    </tr>\n",
       "    <tr>\n",
       "      <th>1</th>\n",
       "      <td>2024-04-01 00:27:16.255000+00:00</td>\n",
       "      <td>31569</td>\n",
       "      <td>71165.95</td>\n",
       "      <td>71194.00</td>\n",
       "      <td>71102.00</td>\n",
       "      <td>71115.24</td>\n",
       "      <td>290.03716</td>\n",
       "      <td>136.65828</td>\n",
       "      <td>18753</td>\n",
       "      <td>2.063668e+07</td>\n",
       "    </tr>\n",
       "    <tr>\n",
       "      <th>2</th>\n",
       "      <td>2024-04-01 00:44:10.534000+00:00</td>\n",
       "      <td>48812</td>\n",
       "      <td>71115.24</td>\n",
       "      <td>71117.82</td>\n",
       "      <td>70844.14</td>\n",
       "      <td>70930.59</td>\n",
       "      <td>290.01188</td>\n",
       "      <td>117.39977</td>\n",
       "      <td>17243</td>\n",
       "      <td>2.059326e+07</td>\n",
       "    </tr>\n",
       "    <tr>\n",
       "      <th>3</th>\n",
       "      <td>2024-04-01 01:02:51.585000+00:00</td>\n",
       "      <td>66285</td>\n",
       "      <td>70930.59</td>\n",
       "      <td>71172.08</td>\n",
       "      <td>70880.00</td>\n",
       "      <td>71128.99</td>\n",
       "      <td>290.58347</td>\n",
       "      <td>190.18459</td>\n",
       "      <td>17473</td>\n",
       "      <td>2.063965e+07</td>\n",
       "    </tr>\n",
       "    <tr>\n",
       "      <th>4</th>\n",
       "      <td>2024-04-01 01:26:14.049000+00:00</td>\n",
       "      <td>83898</td>\n",
       "      <td>71128.95</td>\n",
       "      <td>71132.22</td>\n",
       "      <td>70952.90</td>\n",
       "      <td>71036.00</td>\n",
       "      <td>290.18545</td>\n",
       "      <td>134.62185</td>\n",
       "      <td>17613</td>\n",
       "      <td>2.061307e+07</td>\n",
       "    </tr>\n",
       "  </tbody>\n",
       "</table>\n",
       "</div>"
      ],
      "text/plain": [
       "                          date_time  tick_num      open      high       low  \\\n",
       "0  2024-04-01 00:07:18.265000+00:00     12816  71280.00  71288.23  71107.71   \n",
       "1  2024-04-01 00:27:16.255000+00:00     31569  71165.95  71194.00  71102.00   \n",
       "2  2024-04-01 00:44:10.534000+00:00     48812  71115.24  71117.82  70844.14   \n",
       "3  2024-04-01 01:02:51.585000+00:00     66285  70930.59  71172.08  70880.00   \n",
       "4  2024-04-01 01:26:14.049000+00:00     83898  71128.95  71132.22  70952.90   \n",
       "\n",
       "      close     volume  cum_buy_volume  cum_ticks  cum_dollar_value  \n",
       "0  71165.94  290.15586       132.92566      12816      2.065562e+07  \n",
       "1  71115.24  290.03716       136.65828      18753      2.063668e+07  \n",
       "2  70930.59  290.01188       117.39977      17243      2.059326e+07  \n",
       "3  71128.99  290.58347       190.18459      17473      2.063965e+07  \n",
       "4  71036.00  290.18545       134.62185      17613      2.061307e+07  "
      ]
     },
     "execution_count": 21,
     "metadata": {},
     "output_type": "execute_result"
    }
   ],
   "source": [
    "df.head()"
   ]
  },
  {
   "cell_type": "code",
   "execution_count": 22,
   "id": "bfdd4fbf",
   "metadata": {},
   "outputs": [
    {
     "name": "stdout",
     "output_type": "stream",
     "text": [
      "<class 'pandas.core.frame.DataFrame'>\n",
      "RangeIndex: 49366 entries, 0 to 49365\n",
      "Data columns (total 10 columns):\n",
      " #   Column            Non-Null Count  Dtype  \n",
      "---  ------            --------------  -----  \n",
      " 0   date_time         49366 non-null  object \n",
      " 1   tick_num          49366 non-null  int64  \n",
      " 2   open              49366 non-null  float64\n",
      " 3   high              49366 non-null  float64\n",
      " 4   low               49366 non-null  float64\n",
      " 5   close             49366 non-null  float64\n",
      " 6   volume            49366 non-null  float64\n",
      " 7   cum_buy_volume    49366 non-null  float64\n",
      " 8   cum_ticks         49366 non-null  int64  \n",
      " 9   cum_dollar_value  49366 non-null  float64\n",
      "dtypes: float64(7), int64(2), object(1)\n",
      "memory usage: 3.8+ MB\n"
     ]
    }
   ],
   "source": [
    "df.info()"
   ]
  },
  {
   "cell_type": "code",
   "execution_count": 23,
   "id": "0fdb43b5",
   "metadata": {},
   "outputs": [
    {
     "name": "stdout",
     "output_type": "stream",
     "text": [
      "<class 'pandas.core.frame.DataFrame'>\n",
      "DatetimeIndex: 49366 entries, 2024-04-01 00:07:18.265000+00:00 to 2025-09-30 23:12:57.728052+00:00\n",
      "Data columns (total 9 columns):\n",
      " #   Column            Non-Null Count  Dtype  \n",
      "---  ------            --------------  -----  \n",
      " 0   tick_num          49366 non-null  int64  \n",
      " 1   open              49366 non-null  float64\n",
      " 2   high              49366 non-null  float64\n",
      " 3   low               49366 non-null  float64\n",
      " 4   close             49366 non-null  float64\n",
      " 5   volume            49366 non-null  float64\n",
      " 6   cum_buy_volume    49366 non-null  float64\n",
      " 7   cum_ticks         49366 non-null  int64  \n",
      " 8   cum_dollar_value  49366 non-null  float64\n",
      "dtypes: float64(7), int64(2)\n",
      "memory usage: 3.8 MB\n"
     ]
    }
   ],
   "source": [
    "# df['date_time'] = pd.to_datetime(df['date_time'])\n",
    "df['date_time'] = pd.to_datetime(df['date_time'], format='mixed', utc=True)\n",
    "df = df.set_index('date_time')\n",
    "df.info()"
   ]
  },
  {
   "cell_type": "code",
   "execution_count": 24,
   "id": "0474337e",
   "metadata": {},
   "outputs": [
    {
     "data": {
      "text/html": [
       "<div>\n",
       "<style scoped>\n",
       "    .dataframe tbody tr th:only-of-type {\n",
       "        vertical-align: middle;\n",
       "    }\n",
       "\n",
       "    .dataframe tbody tr th {\n",
       "        vertical-align: top;\n",
       "    }\n",
       "\n",
       "    .dataframe thead th {\n",
       "        text-align: right;\n",
       "    }\n",
       "</style>\n",
       "<table border=\"1\" class=\"dataframe\">\n",
       "  <thead>\n",
       "    <tr style=\"text-align: right;\">\n",
       "      <th></th>\n",
       "      <th>tick_num</th>\n",
       "      <th>open</th>\n",
       "      <th>high</th>\n",
       "      <th>low</th>\n",
       "      <th>close</th>\n",
       "      <th>volume</th>\n",
       "      <th>cum_buy_volume</th>\n",
       "      <th>cum_ticks</th>\n",
       "      <th>cum_dollar_value</th>\n",
       "    </tr>\n",
       "    <tr>\n",
       "      <th>date_time</th>\n",
       "      <th></th>\n",
       "      <th></th>\n",
       "      <th></th>\n",
       "      <th></th>\n",
       "      <th></th>\n",
       "      <th></th>\n",
       "      <th></th>\n",
       "      <th></th>\n",
       "      <th></th>\n",
       "    </tr>\n",
       "  </thead>\n",
       "  <tbody>\n",
       "    <tr>\n",
       "      <th>2024-04-01 00:07:18.265000+00:00</th>\n",
       "      <td>12816</td>\n",
       "      <td>71280.00</td>\n",
       "      <td>71288.23</td>\n",
       "      <td>71107.71</td>\n",
       "      <td>71165.94</td>\n",
       "      <td>290.15586</td>\n",
       "      <td>132.92566</td>\n",
       "      <td>12816</td>\n",
       "      <td>2.065562e+07</td>\n",
       "    </tr>\n",
       "    <tr>\n",
       "      <th>2024-04-01 00:27:16.255000+00:00</th>\n",
       "      <td>31569</td>\n",
       "      <td>71165.95</td>\n",
       "      <td>71194.00</td>\n",
       "      <td>71102.00</td>\n",
       "      <td>71115.24</td>\n",
       "      <td>290.03716</td>\n",
       "      <td>136.65828</td>\n",
       "      <td>18753</td>\n",
       "      <td>2.063668e+07</td>\n",
       "    </tr>\n",
       "    <tr>\n",
       "      <th>2024-04-01 00:44:10.534000+00:00</th>\n",
       "      <td>48812</td>\n",
       "      <td>71115.24</td>\n",
       "      <td>71117.82</td>\n",
       "      <td>70844.14</td>\n",
       "      <td>70930.59</td>\n",
       "      <td>290.01188</td>\n",
       "      <td>117.39977</td>\n",
       "      <td>17243</td>\n",
       "      <td>2.059326e+07</td>\n",
       "    </tr>\n",
       "    <tr>\n",
       "      <th>2024-04-01 01:02:51.585000+00:00</th>\n",
       "      <td>66285</td>\n",
       "      <td>70930.59</td>\n",
       "      <td>71172.08</td>\n",
       "      <td>70880.00</td>\n",
       "      <td>71128.99</td>\n",
       "      <td>290.58347</td>\n",
       "      <td>190.18459</td>\n",
       "      <td>17473</td>\n",
       "      <td>2.063965e+07</td>\n",
       "    </tr>\n",
       "    <tr>\n",
       "      <th>2024-04-01 01:26:14.049000+00:00</th>\n",
       "      <td>83898</td>\n",
       "      <td>71128.95</td>\n",
       "      <td>71132.22</td>\n",
       "      <td>70952.90</td>\n",
       "      <td>71036.00</td>\n",
       "      <td>290.18545</td>\n",
       "      <td>134.62185</td>\n",
       "      <td>17613</td>\n",
       "      <td>2.061307e+07</td>\n",
       "    </tr>\n",
       "  </tbody>\n",
       "</table>\n",
       "</div>"
      ],
      "text/plain": [
       "                                  tick_num      open      high       low  \\\n",
       "date_time                                                                  \n",
       "2024-04-01 00:07:18.265000+00:00     12816  71280.00  71288.23  71107.71   \n",
       "2024-04-01 00:27:16.255000+00:00     31569  71165.95  71194.00  71102.00   \n",
       "2024-04-01 00:44:10.534000+00:00     48812  71115.24  71117.82  70844.14   \n",
       "2024-04-01 01:02:51.585000+00:00     66285  70930.59  71172.08  70880.00   \n",
       "2024-04-01 01:26:14.049000+00:00     83898  71128.95  71132.22  70952.90   \n",
       "\n",
       "                                     close     volume  cum_buy_volume  \\\n",
       "date_time                                                               \n",
       "2024-04-01 00:07:18.265000+00:00  71165.94  290.15586       132.92566   \n",
       "2024-04-01 00:27:16.255000+00:00  71115.24  290.03716       136.65828   \n",
       "2024-04-01 00:44:10.534000+00:00  70930.59  290.01188       117.39977   \n",
       "2024-04-01 01:02:51.585000+00:00  71128.99  290.58347       190.18459   \n",
       "2024-04-01 01:26:14.049000+00:00  71036.00  290.18545       134.62185   \n",
       "\n",
       "                                  cum_ticks  cum_dollar_value  \n",
       "date_time                                                      \n",
       "2024-04-01 00:07:18.265000+00:00      12816      2.065562e+07  \n",
       "2024-04-01 00:27:16.255000+00:00      18753      2.063668e+07  \n",
       "2024-04-01 00:44:10.534000+00:00      17243      2.059326e+07  \n",
       "2024-04-01 01:02:51.585000+00:00      17473      2.063965e+07  \n",
       "2024-04-01 01:26:14.049000+00:00      17613      2.061307e+07  "
      ]
     },
     "execution_count": 24,
     "metadata": {},
     "output_type": "execute_result"
    }
   ],
   "source": [
    "df.head()"
   ]
  },
  {
   "cell_type": "markdown",
   "id": "c8d6bc8c",
   "metadata": {},
   "source": [
    "## Aplly symmetric CUSUM filter where the threshold is the standard deviation of daily returns"
   ]
  },
  {
   "cell_type": "code",
   "execution_count": 25,
   "id": "6c606864",
   "metadata": {},
   "outputs": [],
   "source": [
    "import numpy as np\n",
    "daily = df['close'].resample('1D').last().to_frame()\n",
    "daily['returns'] = np.log(daily['close'] / daily['close'].shift(1))\n",
    "daily.dropna(inplace=True)"
   ]
  },
  {
   "cell_type": "code",
   "execution_count": 26,
   "id": "aa56ed16",
   "metadata": {},
   "outputs": [
    {
     "data": {
      "text/html": [
       "<div>\n",
       "<style scoped>\n",
       "    .dataframe tbody tr th:only-of-type {\n",
       "        vertical-align: middle;\n",
       "    }\n",
       "\n",
       "    .dataframe tbody tr th {\n",
       "        vertical-align: top;\n",
       "    }\n",
       "\n",
       "    .dataframe thead th {\n",
       "        text-align: right;\n",
       "    }\n",
       "</style>\n",
       "<table border=\"1\" class=\"dataframe\">\n",
       "  <thead>\n",
       "    <tr style=\"text-align: right;\">\n",
       "      <th></th>\n",
       "      <th>close</th>\n",
       "      <th>returns</th>\n",
       "    </tr>\n",
       "    <tr>\n",
       "      <th>date_time</th>\n",
       "      <th></th>\n",
       "      <th></th>\n",
       "    </tr>\n",
       "  </thead>\n",
       "  <tbody>\n",
       "    <tr>\n",
       "      <th>2024-04-02 00:00:00+00:00</th>\n",
       "      <td>65419.67</td>\n",
       "      <td>-0.064553</td>\n",
       "    </tr>\n",
       "    <tr>\n",
       "      <th>2024-04-03 00:00:00+00:00</th>\n",
       "      <td>66110.65</td>\n",
       "      <td>0.010507</td>\n",
       "    </tr>\n",
       "    <tr>\n",
       "      <th>2024-04-04 00:00:00+00:00</th>\n",
       "      <td>68492.06</td>\n",
       "      <td>0.035388</td>\n",
       "    </tr>\n",
       "    <tr>\n",
       "      <th>2024-04-05 00:00:00+00:00</th>\n",
       "      <td>67950.00</td>\n",
       "      <td>-0.007946</td>\n",
       "    </tr>\n",
       "    <tr>\n",
       "      <th>2024-04-06 00:00:00+00:00</th>\n",
       "      <td>68937.81</td>\n",
       "      <td>0.014433</td>\n",
       "    </tr>\n",
       "  </tbody>\n",
       "</table>\n",
       "</div>"
      ],
      "text/plain": [
       "                              close   returns\n",
       "date_time                                    \n",
       "2024-04-02 00:00:00+00:00  65419.67 -0.064553\n",
       "2024-04-03 00:00:00+00:00  66110.65  0.010507\n",
       "2024-04-04 00:00:00+00:00  68492.06  0.035388\n",
       "2024-04-05 00:00:00+00:00  67950.00 -0.007946\n",
       "2024-04-06 00:00:00+00:00  68937.81  0.014433"
      ]
     },
     "execution_count": 26,
     "metadata": {},
     "output_type": "execute_result"
    }
   ],
   "source": [
    "daily.head()"
   ]
  },
  {
   "cell_type": "code",
   "execution_count": 27,
   "id": "e56df9d5",
   "metadata": {},
   "outputs": [
    {
     "data": {
      "text/plain": [
       "0.02403298806976558"
      ]
     },
     "execution_count": 27,
     "metadata": {},
     "output_type": "execute_result"
    }
   ],
   "source": [
    "std_daily_ret = daily['returns'].std()\n",
    "std_daily_ret"
   ]
  },
  {
   "cell_type": "code",
   "execution_count": 28,
   "id": "fcf643c6",
   "metadata": {},
   "outputs": [],
   "source": [
    "from mlfinpy.filters import cusum_filter\n",
    "cusum_events = cusum_filter(df['close'], threshold = std_daily_ret)"
   ]
  },
  {
   "cell_type": "code",
   "execution_count": 29,
   "id": "5fa1a2c7",
   "metadata": {},
   "outputs": [
    {
     "data": {
      "text/plain": [
       "936"
      ]
     },
     "execution_count": 29,
     "metadata": {},
     "output_type": "execute_result"
    }
   ],
   "source": [
    "len(cusum_events)"
   ]
  },
  {
   "cell_type": "markdown",
   "id": "a772fbd3",
   "metadata": {},
   "source": [
    "## Adding the vertical barriers"
   ]
  },
  {
   "cell_type": "code",
   "execution_count": 30,
   "id": "e5c568f2",
   "metadata": {},
   "outputs": [],
   "source": [
    "from mlfinpy.labeling.labeling import add_vertical_barrier\n",
    "\n",
    "verticle_barriers = add_vertical_barrier(cusum_events, df['close'],num_days=1)"
   ]
  },
  {
   "cell_type": "code",
   "execution_count": 31,
   "id": "d017f68d",
   "metadata": {},
   "outputs": [
    {
     "data": {
      "text/plain": [
       "2024-04-01 05:50:38.973000+00:00   2024-04-02 05:52:03.228000+00:00\n",
       "2024-04-01 15:13:25.601000+00:00   2024-04-02 15:15:35.136000+00:00\n",
       "2024-04-01 19:59:00.177000+00:00   2024-04-02 19:59:22.288000+00:00\n",
       "2024-04-02 02:35:54.635000+00:00   2024-04-03 02:45:02.574000+00:00\n",
       "2024-04-02 02:39:25.821000+00:00   2024-04-03 02:45:02.574000+00:00\n",
       "Name: date_time, dtype: datetime64[ns, UTC]"
      ]
     },
     "execution_count": 31,
     "metadata": {},
     "output_type": "execute_result"
    }
   ],
   "source": [
    "verticle_barriers.head()"
   ]
  },
  {
   "cell_type": "markdown",
   "id": "0d9c38f2",
   "metadata": {},
   "source": [
    "## Adding the triple barrier events\n",
    "\n",
    "target = daily volatility\n",
    "pt_sl = [1,1]\n",
    "\n",
    "tp, sl = target * pt_sl"
   ]
  },
  {
   "cell_type": "code",
   "execution_count": 32,
   "id": "d54e2512",
   "metadata": {},
   "outputs": [
    {
     "name": "stderr",
     "output_type": "stream",
     "text": [
      "2025-10-19 13:35:50.641496 100.0% triple_barriers done after 0.03 minutes. Remaining 0.0 minutes..\n"
     ]
    }
   ],
   "source": [
    "from mlfinpy.labeling.labeling import get_events, drop_labels\n",
    "from mlfinpy.util import get_daily_vol\n",
    "from mlfinpy.labeling import get_events\n",
    "\n",
    "pt_sl = [1, 1]\n",
    "min_ret = 0.005\n",
    "daily_vol = get_daily_vol(close=df['close'], lookback=50)\n",
    "triple_barrier_events = get_events(close=df['close'],\n",
    "                                               t_events=cusum_events,\n",
    "                                               pt_sl=pt_sl,\n",
    "                                               target=daily_vol,\n",
    "                                               min_ret=min_ret,\n",
    "                                               num_threads=3,\n",
    "                                               vertical_barrier_times=verticle_barriers,\n",
    "                                               side_prediction=None)"
   ]
  },
  {
   "cell_type": "code",
   "execution_count": 33,
   "id": "ffbed2c7",
   "metadata": {},
   "outputs": [
    {
     "data": {
      "text/html": [
       "<div>\n",
       "<style scoped>\n",
       "    .dataframe tbody tr th:only-of-type {\n",
       "        vertical-align: middle;\n",
       "    }\n",
       "\n",
       "    .dataframe tbody tr th {\n",
       "        vertical-align: top;\n",
       "    }\n",
       "\n",
       "    .dataframe thead th {\n",
       "        text-align: right;\n",
       "    }\n",
       "</style>\n",
       "<table border=\"1\" class=\"dataframe\">\n",
       "  <thead>\n",
       "    <tr style=\"text-align: right;\">\n",
       "      <th></th>\n",
       "      <th>t1</th>\n",
       "      <th>trgt</th>\n",
       "      <th>pt</th>\n",
       "      <th>sl</th>\n",
       "    </tr>\n",
       "  </thead>\n",
       "  <tbody>\n",
       "    <tr>\n",
       "      <th>2024-04-02 02:35:54.635000+00:00</th>\n",
       "      <td>2024-04-02 02:37:30.886000+00:00</td>\n",
       "      <td>0.005652</td>\n",
       "      <td>1</td>\n",
       "      <td>1</td>\n",
       "    </tr>\n",
       "    <tr>\n",
       "      <th>2024-04-02 02:39:25.821000+00:00</th>\n",
       "      <td>2024-04-02 02:46:52.545000+00:00</td>\n",
       "      <td>0.014306</td>\n",
       "      <td>1</td>\n",
       "      <td>1</td>\n",
       "    </tr>\n",
       "    <tr>\n",
       "      <th>2024-04-02 10:49:02.566000+00:00</th>\n",
       "      <td>2024-04-02 10:59:50.351000+00:00</td>\n",
       "      <td>0.006218</td>\n",
       "      <td>1</td>\n",
       "      <td>1</td>\n",
       "    </tr>\n",
       "    <tr>\n",
       "      <th>2024-04-03 00:38:07.273000+00:00</th>\n",
       "      <td>2024-04-03 00:42:14.048000+00:00</td>\n",
       "      <td>0.007535</td>\n",
       "      <td>1</td>\n",
       "      <td>1</td>\n",
       "    </tr>\n",
       "    <tr>\n",
       "      <th>2024-04-03 03:54:03.241000+00:00</th>\n",
       "      <td>2024-04-04 04:02:33.254000+00:00</td>\n",
       "      <td>0.018460</td>\n",
       "      <td>1</td>\n",
       "      <td>1</td>\n",
       "    </tr>\n",
       "    <tr>\n",
       "      <th>...</th>\n",
       "      <td>...</td>\n",
       "      <td>...</td>\n",
       "      <td>...</td>\n",
       "      <td>...</td>\n",
       "    </tr>\n",
       "    <tr>\n",
       "      <th>2025-09-22 06:02:47.373774+00:00</th>\n",
       "      <td>2025-09-22 14:32:02.784811+00:00</td>\n",
       "      <td>0.009174</td>\n",
       "      <td>1</td>\n",
       "      <td>1</td>\n",
       "    </tr>\n",
       "    <tr>\n",
       "      <th>2025-09-25 12:30:00.083393+00:00</th>\n",
       "      <td>2025-09-25 17:20:34.660156+00:00</td>\n",
       "      <td>0.008702</td>\n",
       "      <td>1</td>\n",
       "      <td>1</td>\n",
       "    </tr>\n",
       "    <tr>\n",
       "      <th>2025-09-25 17:57:14.617501+00:00</th>\n",
       "      <td>2025-09-26 18:21:19.971717+00:00</td>\n",
       "      <td>0.014452</td>\n",
       "      <td>1</td>\n",
       "      <td>1</td>\n",
       "    </tr>\n",
       "    <tr>\n",
       "      <th>2025-09-28 22:10:24.601186+00:00</th>\n",
       "      <td>2025-09-29 13:43:12.088604+00:00</td>\n",
       "      <td>0.011553</td>\n",
       "      <td>1</td>\n",
       "      <td>1</td>\n",
       "    </tr>\n",
       "    <tr>\n",
       "      <th>2025-09-29 19:51:12.463610+00:00</th>\n",
       "      <td>2025-09-30 09:44:41.884430+00:00</td>\n",
       "      <td>0.012306</td>\n",
       "      <td>1</td>\n",
       "      <td>1</td>\n",
       "    </tr>\n",
       "  </tbody>\n",
       "</table>\n",
       "<p>928 rows × 4 columns</p>\n",
       "</div>"
      ],
      "text/plain": [
       "                                                               t1      trgt  \\\n",
       "2024-04-02 02:35:54.635000+00:00 2024-04-02 02:37:30.886000+00:00  0.005652   \n",
       "2024-04-02 02:39:25.821000+00:00 2024-04-02 02:46:52.545000+00:00  0.014306   \n",
       "2024-04-02 10:49:02.566000+00:00 2024-04-02 10:59:50.351000+00:00  0.006218   \n",
       "2024-04-03 00:38:07.273000+00:00 2024-04-03 00:42:14.048000+00:00  0.007535   \n",
       "2024-04-03 03:54:03.241000+00:00 2024-04-04 04:02:33.254000+00:00  0.018460   \n",
       "...                                                           ...       ...   \n",
       "2025-09-22 06:02:47.373774+00:00 2025-09-22 14:32:02.784811+00:00  0.009174   \n",
       "2025-09-25 12:30:00.083393+00:00 2025-09-25 17:20:34.660156+00:00  0.008702   \n",
       "2025-09-25 17:57:14.617501+00:00 2025-09-26 18:21:19.971717+00:00  0.014452   \n",
       "2025-09-28 22:10:24.601186+00:00 2025-09-29 13:43:12.088604+00:00  0.011553   \n",
       "2025-09-29 19:51:12.463610+00:00 2025-09-30 09:44:41.884430+00:00  0.012306   \n",
       "\n",
       "                                  pt  sl  \n",
       "2024-04-02 02:35:54.635000+00:00   1   1  \n",
       "2024-04-02 02:39:25.821000+00:00   1   1  \n",
       "2024-04-02 10:49:02.566000+00:00   1   1  \n",
       "2024-04-03 00:38:07.273000+00:00   1   1  \n",
       "2024-04-03 03:54:03.241000+00:00   1   1  \n",
       "...                               ..  ..  \n",
       "2025-09-22 06:02:47.373774+00:00   1   1  \n",
       "2025-09-25 12:30:00.083393+00:00   1   1  \n",
       "2025-09-25 17:57:14.617501+00:00   1   1  \n",
       "2025-09-28 22:10:24.601186+00:00   1   1  \n",
       "2025-09-29 19:51:12.463610+00:00   1   1  \n",
       "\n",
       "[928 rows x 4 columns]"
      ]
     },
     "execution_count": 33,
     "metadata": {},
     "output_type": "execute_result"
    }
   ],
   "source": [
    "triple_barrier_events"
   ]
  },
  {
   "cell_type": "markdown",
   "id": "d95e5f1d",
   "metadata": {},
   "source": [
    "## Calculate meta labels\n",
    "$\n",
    "\\text{bin}_{t_0} =\n",
    "\\begin{cases}\n",
    "+1, & \\text{if the price hits the upper barrier (Take Profit)} \\\\\n",
    "-1, & \\text{if the price hits the lower barrier (Stop Loss)} \\\\\n",
    "0,  & \\text{if the time limit expires without touching any barrier}\n",
    "\\end{cases}\n",
    "$"
   ]
  },
  {
   "cell_type": "code",
   "execution_count": 34,
   "id": "25707403",
   "metadata": {},
   "outputs": [
    {
     "data": {
      "text/html": [
       "<div>\n",
       "<style scoped>\n",
       "    .dataframe tbody tr th:only-of-type {\n",
       "        vertical-align: middle;\n",
       "    }\n",
       "\n",
       "    .dataframe tbody tr th {\n",
       "        vertical-align: top;\n",
       "    }\n",
       "\n",
       "    .dataframe thead th {\n",
       "        text-align: right;\n",
       "    }\n",
       "</style>\n",
       "<table border=\"1\" class=\"dataframe\">\n",
       "  <thead>\n",
       "    <tr style=\"text-align: right;\">\n",
       "      <th></th>\n",
       "      <th>ret</th>\n",
       "      <th>trgt</th>\n",
       "      <th>bin</th>\n",
       "    </tr>\n",
       "  </thead>\n",
       "  <tbody>\n",
       "    <tr>\n",
       "      <th>2024-04-02 02:35:54.635000+00:00</th>\n",
       "      <td>-0.007636</td>\n",
       "      <td>0.005652</td>\n",
       "      <td>-1</td>\n",
       "    </tr>\n",
       "    <tr>\n",
       "      <th>2024-04-02 02:39:25.821000+00:00</th>\n",
       "      <td>0.015634</td>\n",
       "      <td>0.014306</td>\n",
       "      <td>1</td>\n",
       "    </tr>\n",
       "    <tr>\n",
       "      <th>2024-04-02 10:49:02.566000+00:00</th>\n",
       "      <td>0.006972</td>\n",
       "      <td>0.006218</td>\n",
       "      <td>1</td>\n",
       "    </tr>\n",
       "    <tr>\n",
       "      <th>2024-04-03 00:38:07.273000+00:00</th>\n",
       "      <td>0.009347</td>\n",
       "      <td>0.007535</td>\n",
       "      <td>1</td>\n",
       "    </tr>\n",
       "    <tr>\n",
       "      <th>2024-04-03 03:54:03.241000+00:00</th>\n",
       "      <td>-0.008757</td>\n",
       "      <td>0.018460</td>\n",
       "      <td>0</td>\n",
       "    </tr>\n",
       "  </tbody>\n",
       "</table>\n",
       "</div>"
      ],
      "text/plain": [
       "                                       ret      trgt  bin\n",
       "2024-04-02 02:35:54.635000+00:00 -0.007636  0.005652   -1\n",
       "2024-04-02 02:39:25.821000+00:00  0.015634  0.014306    1\n",
       "2024-04-02 10:49:02.566000+00:00  0.006972  0.006218    1\n",
       "2024-04-03 00:38:07.273000+00:00  0.009347  0.007535    1\n",
       "2024-04-03 03:54:03.241000+00:00 -0.008757  0.018460    0"
      ]
     },
     "execution_count": 34,
     "metadata": {},
     "output_type": "execute_result"
    }
   ],
   "source": [
    "from mlfinpy.labeling import get_bins\n",
    "meta_labels = get_bins(triple_barrier_events, df['close'])\n",
    "meta_labels.head()"
   ]
  },
  {
   "cell_type": "markdown",
   "id": "b25f08bf",
   "metadata": {},
   "source": [
    "## Dropping the rare labels"
   ]
  },
  {
   "cell_type": "code",
   "execution_count": 35,
   "id": "4800fe4f",
   "metadata": {},
   "outputs": [
    {
     "name": "stdout",
     "output_type": "stream",
     "text": [
      "dropped label:  0 0.07327586206896551\n"
     ]
    }
   ],
   "source": [
    "clean_meta_labels = drop_labels(meta_labels, min_pct=0.1)"
   ]
  },
  {
   "cell_type": "code",
   "execution_count": 36,
   "id": "760e9a40",
   "metadata": {},
   "outputs": [
    {
     "data": {
      "text/plain": [
       "bin\n",
       " 1    433\n",
       "-1    427\n",
       " 0     68\n",
       "Name: count, dtype: int64"
      ]
     },
     "execution_count": 36,
     "metadata": {},
     "output_type": "execute_result"
    }
   ],
   "source": [
    "meta_labels.bin.value_counts()"
   ]
  },
  {
   "cell_type": "code",
   "execution_count": 37,
   "id": "482755be",
   "metadata": {},
   "outputs": [
    {
     "data": {
      "text/plain": [
       "bin\n",
       " 1    433\n",
       "-1    427\n",
       "Name: count, dtype: int64"
      ]
     },
     "execution_count": 37,
     "metadata": {},
     "output_type": "execute_result"
    }
   ],
   "source": [
    "clean_meta_labels.bin.value_counts()"
   ]
  },
  {
   "cell_type": "code",
   "execution_count": 38,
   "id": "1b521688",
   "metadata": {},
   "outputs": [
    {
     "data": {
      "text/html": [
       "<div>\n",
       "<style scoped>\n",
       "    .dataframe tbody tr th:only-of-type {\n",
       "        vertical-align: middle;\n",
       "    }\n",
       "\n",
       "    .dataframe tbody tr th {\n",
       "        vertical-align: top;\n",
       "    }\n",
       "\n",
       "    .dataframe thead th {\n",
       "        text-align: right;\n",
       "    }\n",
       "</style>\n",
       "<table border=\"1\" class=\"dataframe\">\n",
       "  <thead>\n",
       "    <tr style=\"text-align: right;\">\n",
       "      <th></th>\n",
       "      <th>ret</th>\n",
       "      <th>trgt</th>\n",
       "      <th>bin</th>\n",
       "    </tr>\n",
       "  </thead>\n",
       "  <tbody>\n",
       "    <tr>\n",
       "      <th>2024-04-02 02:35:54.635000+00:00</th>\n",
       "      <td>-0.007636</td>\n",
       "      <td>0.005652</td>\n",
       "      <td>-1</td>\n",
       "    </tr>\n",
       "    <tr>\n",
       "      <th>2024-04-02 02:39:25.821000+00:00</th>\n",
       "      <td>0.015634</td>\n",
       "      <td>0.014306</td>\n",
       "      <td>1</td>\n",
       "    </tr>\n",
       "    <tr>\n",
       "      <th>2024-04-02 10:49:02.566000+00:00</th>\n",
       "      <td>0.006972</td>\n",
       "      <td>0.006218</td>\n",
       "      <td>1</td>\n",
       "    </tr>\n",
       "    <tr>\n",
       "      <th>2024-04-03 00:38:07.273000+00:00</th>\n",
       "      <td>0.009347</td>\n",
       "      <td>0.007535</td>\n",
       "      <td>1</td>\n",
       "    </tr>\n",
       "    <tr>\n",
       "      <th>2024-04-04 04:20:45.632000+00:00</th>\n",
       "      <td>0.010987</td>\n",
       "      <td>0.009090</td>\n",
       "      <td>1</td>\n",
       "    </tr>\n",
       "    <tr>\n",
       "      <th>...</th>\n",
       "      <td>...</td>\n",
       "      <td>...</td>\n",
       "      <td>...</td>\n",
       "    </tr>\n",
       "    <tr>\n",
       "      <th>2025-09-22 00:34:51.399126+00:00</th>\n",
       "      <td>-0.009036</td>\n",
       "      <td>0.006969</td>\n",
       "      <td>-1</td>\n",
       "    </tr>\n",
       "    <tr>\n",
       "      <th>2025-09-22 06:02:47.373774+00:00</th>\n",
       "      <td>0.009417</td>\n",
       "      <td>0.009174</td>\n",
       "      <td>1</td>\n",
       "    </tr>\n",
       "    <tr>\n",
       "      <th>2025-09-25 12:30:00.083393+00:00</th>\n",
       "      <td>-0.009687</td>\n",
       "      <td>0.008702</td>\n",
       "      <td>-1</td>\n",
       "    </tr>\n",
       "    <tr>\n",
       "      <th>2025-09-28 22:10:24.601186+00:00</th>\n",
       "      <td>0.012835</td>\n",
       "      <td>0.011553</td>\n",
       "      <td>1</td>\n",
       "    </tr>\n",
       "    <tr>\n",
       "      <th>2025-09-29 19:51:12.463610+00:00</th>\n",
       "      <td>-0.012549</td>\n",
       "      <td>0.012306</td>\n",
       "      <td>-1</td>\n",
       "    </tr>\n",
       "  </tbody>\n",
       "</table>\n",
       "<p>860 rows × 3 columns</p>\n",
       "</div>"
      ],
      "text/plain": [
       "                                       ret      trgt  bin\n",
       "2024-04-02 02:35:54.635000+00:00 -0.007636  0.005652   -1\n",
       "2024-04-02 02:39:25.821000+00:00  0.015634  0.014306    1\n",
       "2024-04-02 10:49:02.566000+00:00  0.006972  0.006218    1\n",
       "2024-04-03 00:38:07.273000+00:00  0.009347  0.007535    1\n",
       "2024-04-04 04:20:45.632000+00:00  0.010987  0.009090    1\n",
       "...                                    ...       ...  ...\n",
       "2025-09-22 00:34:51.399126+00:00 -0.009036  0.006969   -1\n",
       "2025-09-22 06:02:47.373774+00:00  0.009417  0.009174    1\n",
       "2025-09-25 12:30:00.083393+00:00 -0.009687  0.008702   -1\n",
       "2025-09-28 22:10:24.601186+00:00  0.012835  0.011553    1\n",
       "2025-09-29 19:51:12.463610+00:00 -0.012549  0.012306   -1\n",
       "\n",
       "[860 rows x 3 columns]"
      ]
     },
     "execution_count": 38,
     "metadata": {},
     "output_type": "execute_result"
    }
   ],
   "source": [
    "clean_meta_labels"
   ]
  },
  {
   "cell_type": "code",
   "execution_count": 39,
   "id": "52d8ba4d",
   "metadata": {},
   "outputs": [],
   "source": [
    "first_model_data = pd.concat([df,clean_meta_labels],axis=1).dropna()"
   ]
  },
  {
   "cell_type": "code",
   "execution_count": 40,
   "id": "264197da",
   "metadata": {},
   "outputs": [
    {
     "data": {
      "text/html": [
       "<div>\n",
       "<style scoped>\n",
       "    .dataframe tbody tr th:only-of-type {\n",
       "        vertical-align: middle;\n",
       "    }\n",
       "\n",
       "    .dataframe tbody tr th {\n",
       "        vertical-align: top;\n",
       "    }\n",
       "\n",
       "    .dataframe thead th {\n",
       "        text-align: right;\n",
       "    }\n",
       "</style>\n",
       "<table border=\"1\" class=\"dataframe\">\n",
       "  <thead>\n",
       "    <tr style=\"text-align: right;\">\n",
       "      <th></th>\n",
       "      <th>tick_num</th>\n",
       "      <th>open</th>\n",
       "      <th>high</th>\n",
       "      <th>low</th>\n",
       "      <th>close</th>\n",
       "      <th>volume</th>\n",
       "      <th>cum_buy_volume</th>\n",
       "      <th>cum_ticks</th>\n",
       "      <th>cum_dollar_value</th>\n",
       "      <th>ret</th>\n",
       "      <th>trgt</th>\n",
       "      <th>bin</th>\n",
       "    </tr>\n",
       "  </thead>\n",
       "  <tbody>\n",
       "    <tr>\n",
       "      <th>2024-04-02 02:35:54.635000+00:00</th>\n",
       "      <td>2086897</td>\n",
       "      <td>68249.04</td>\n",
       "      <td>68316.00</td>\n",
       "      <td>68100.00</td>\n",
       "      <td>68100.00</td>\n",
       "      <td>290.50537</td>\n",
       "      <td>101.38691</td>\n",
       "      <td>9707</td>\n",
       "      <td>1.980469e+07</td>\n",
       "      <td>-0.007636</td>\n",
       "      <td>0.005652</td>\n",
       "      <td>-1.0</td>\n",
       "    </tr>\n",
       "    <tr>\n",
       "      <th>2024-04-02 02:39:25.821000+00:00</th>\n",
       "      <td>2177921</td>\n",
       "      <td>66559.95</td>\n",
       "      <td>66600.15</td>\n",
       "      <td>66000.00</td>\n",
       "      <td>66000.00</td>\n",
       "      <td>290.09952</td>\n",
       "      <td>64.62116</td>\n",
       "      <td>12788</td>\n",
       "      <td>1.921086e+07</td>\n",
       "      <td>0.015634</td>\n",
       "      <td>0.014306</td>\n",
       "      <td>1.0</td>\n",
       "    </tr>\n",
       "    <tr>\n",
       "      <th>2024-04-02 10:49:02.566000+00:00</th>\n",
       "      <td>3114364</td>\n",
       "      <td>65700.00</td>\n",
       "      <td>65737.59</td>\n",
       "      <td>65454.55</td>\n",
       "      <td>65527.14</td>\n",
       "      <td>290.15652</td>\n",
       "      <td>73.07064</td>\n",
       "      <td>8564</td>\n",
       "      <td>1.902317e+07</td>\n",
       "      <td>0.006972</td>\n",
       "      <td>0.006218</td>\n",
       "      <td>1.0</td>\n",
       "    </tr>\n",
       "    <tr>\n",
       "      <th>2024-04-03 00:38:07.273000+00:00</th>\n",
       "      <td>4636798</td>\n",
       "      <td>64716.01</td>\n",
       "      <td>64716.01</td>\n",
       "      <td>64493.07</td>\n",
       "      <td>64584.36</td>\n",
       "      <td>290.25962</td>\n",
       "      <td>106.74046</td>\n",
       "      <td>9161</td>\n",
       "      <td>1.874571e+07</td>\n",
       "      <td>0.009347</td>\n",
       "      <td>0.007535</td>\n",
       "      <td>1.0</td>\n",
       "    </tr>\n",
       "    <tr>\n",
       "      <th>2024-04-04 04:20:45.632000+00:00</th>\n",
       "      <td>7003762</td>\n",
       "      <td>65520.00</td>\n",
       "      <td>65520.00</td>\n",
       "      <td>65212.77</td>\n",
       "      <td>65214.95</td>\n",
       "      <td>290.59311</td>\n",
       "      <td>76.01650</td>\n",
       "      <td>11486</td>\n",
       "      <td>1.897552e+07</td>\n",
       "      <td>0.010987</td>\n",
       "      <td>0.009090</td>\n",
       "      <td>1.0</td>\n",
       "    </tr>\n",
       "  </tbody>\n",
       "</table>\n",
       "</div>"
      ],
      "text/plain": [
       "                                  tick_num      open      high       low  \\\n",
       "2024-04-02 02:35:54.635000+00:00   2086897  68249.04  68316.00  68100.00   \n",
       "2024-04-02 02:39:25.821000+00:00   2177921  66559.95  66600.15  66000.00   \n",
       "2024-04-02 10:49:02.566000+00:00   3114364  65700.00  65737.59  65454.55   \n",
       "2024-04-03 00:38:07.273000+00:00   4636798  64716.01  64716.01  64493.07   \n",
       "2024-04-04 04:20:45.632000+00:00   7003762  65520.00  65520.00  65212.77   \n",
       "\n",
       "                                     close     volume  cum_buy_volume  \\\n",
       "2024-04-02 02:35:54.635000+00:00  68100.00  290.50537       101.38691   \n",
       "2024-04-02 02:39:25.821000+00:00  66000.00  290.09952        64.62116   \n",
       "2024-04-02 10:49:02.566000+00:00  65527.14  290.15652        73.07064   \n",
       "2024-04-03 00:38:07.273000+00:00  64584.36  290.25962       106.74046   \n",
       "2024-04-04 04:20:45.632000+00:00  65214.95  290.59311        76.01650   \n",
       "\n",
       "                                  cum_ticks  cum_dollar_value       ret  \\\n",
       "2024-04-02 02:35:54.635000+00:00       9707      1.980469e+07 -0.007636   \n",
       "2024-04-02 02:39:25.821000+00:00      12788      1.921086e+07  0.015634   \n",
       "2024-04-02 10:49:02.566000+00:00       8564      1.902317e+07  0.006972   \n",
       "2024-04-03 00:38:07.273000+00:00       9161      1.874571e+07  0.009347   \n",
       "2024-04-04 04:20:45.632000+00:00      11486      1.897552e+07  0.010987   \n",
       "\n",
       "                                      trgt  bin  \n",
       "2024-04-02 02:35:54.635000+00:00  0.005652 -1.0  \n",
       "2024-04-02 02:39:25.821000+00:00  0.014306  1.0  \n",
       "2024-04-02 10:49:02.566000+00:00  0.006218  1.0  \n",
       "2024-04-03 00:38:07.273000+00:00  0.007535  1.0  \n",
       "2024-04-04 04:20:45.632000+00:00  0.009090  1.0  "
      ]
     },
     "execution_count": 40,
     "metadata": {},
     "output_type": "execute_result"
    }
   ],
   "source": [
    "first_model_data = first_model_data.sort_index()\n",
    "# first_model_data = first_model_data.drop(['ret'],axis=1)\n",
    "# first_model_data = first_model_data.drop(['trgt'],axis=1)\n",
    "first_model_data.head()"
   ]
  },
  {
   "cell_type": "code",
   "execution_count": 41,
   "id": "6808fd05",
   "metadata": {},
   "outputs": [],
   "source": [
    "split_idx = int(len(first_model_data) * 0.8)"
   ]
  },
  {
   "cell_type": "code",
   "execution_count": 42,
   "id": "cf7a95c9",
   "metadata": {},
   "outputs": [
    {
     "name": "stdout",
     "output_type": "stream",
     "text": [
      "Train interval: 2024-04-02 02:35:54.635000+00:00 → 2025-03-13 01:51:07.546128+00:00\n",
      "Test  interval: 2025-03-13 13:54:00.265893+00:00  → 2025-09-29 19:51:12.463610+00:00\n"
     ]
    }
   ],
   "source": [
    "first_model_data = first_model_data.sort_index()\n",
    "\n",
    "split_idx = int(len(first_model_data) * 0.8)\n",
    "\n",
    "train = first_model_data.iloc[:split_idx].copy()\n",
    "test  = first_model_data.iloc[split_idx:].copy()\n",
    "\n",
    "print(f\"Train interval: {train.index.min()} → {train.index.max()}\")\n",
    "print(f\"Test  interval: {test.index.min()}  → {test.index.max()}\")"
   ]
  },
  {
   "cell_type": "code",
   "execution_count": 43,
   "id": "29f47181",
   "metadata": {},
   "outputs": [],
   "source": [
    "features = [\n",
    "    'open', 'high', 'low', 'close', 'volume',\n",
    "    'cum_buy_volume', 'cum_ticks', 'cum_dollar_value', 'trgt',\n",
    "]\n",
    "\n",
    "X_train, y_train = train[features], train['bin']\n",
    "X_test, y_test = test[features], test['bin']"
   ]
  },
  {
   "cell_type": "markdown",
   "id": "06e06296",
   "metadata": {},
   "source": [
    "## Training the first random forest classifier"
   ]
  },
  {
   "cell_type": "code",
   "execution_count": 44,
   "id": "ef016b51",
   "metadata": {},
   "outputs": [
    {
     "name": "stdout",
     "output_type": "stream",
     "text": [
      "[[61 28]\n",
      " [42 41]]\n",
      "              precision    recall  f1-score   support\n",
      "\n",
      "        -1.0      0.592     0.685     0.635        89\n",
      "         1.0      0.594     0.494     0.539        83\n",
      "\n",
      "    accuracy                          0.593       172\n",
      "   macro avg      0.593     0.590     0.587       172\n",
      "weighted avg      0.593     0.593     0.589       172\n",
      "\n"
     ]
    }
   ],
   "source": [
    "from sklearn.ensemble import RandomForestClassifier\n",
    "from sklearn.metrics import classification_report, confusion_matrix\n",
    "\n",
    "rf = RandomForestClassifier(\n",
    "    n_estimators=300,\n",
    "    max_depth=6,\n",
    "    class_weight='balanced',  \n",
    "    random_state=42,\n",
    "    n_jobs=-1\n",
    ")\n",
    "\n",
    "rf.fit(X_train, y_train)\n",
    "y_pred = rf.predict(X_test)\n",
    "\n",
    "# evaluare\n",
    "print(confusion_matrix(y_test, y_pred))\n",
    "print(classification_report(y_test, y_pred, digits=3))"
   ]
  },
  {
   "cell_type": "code",
   "execution_count": 45,
   "id": "c66e028d",
   "metadata": {},
   "outputs": [],
   "source": [
    "from sklearn.metrics import roc_curve, auc, roc_auc_score\n",
    "import matplotlib.pyplot as plt"
   ]
  },
  {
   "cell_type": "code",
   "execution_count": 46,
   "id": "bcb39114",
   "metadata": {},
   "outputs": [
    {
     "name": "stdout",
     "output_type": "stream",
     "text": [
      "AUC Score: 0.588\n"
     ]
    },
    {
     "data": {
      "image/png": "[encoded data removed]",
      "text/plain": [
       "<Figure size 700x600 with 1 Axes>"
      ]
     },
     "metadata": {},
     "output_type": "display_data"
    }
   ],
   "source": [
    "y_prob = rf.predict_proba(X_test)[:, 1]\n",
    "fpr, tpr, thresholds = roc_curve(y_test, y_prob, pos_label=1)\n",
    "roc_auc = auc(fpr, tpr)\n",
    "print(f\"AUC Score: {roc_auc:.3f}\")\n",
    "\n",
    "plt.figure(figsize=(7, 6))\n",
    "plt.plot(fpr, tpr, color='blue', lw=2, label=f'Random Forest (AUC = {roc_auc:.3f})')\n",
    "plt.plot([0, 1], [0, 1], color='gray', lw=1, linestyle='--', label='No Skill')\n",
    "plt.xlabel('False Positive Rate')\n",
    "plt.ylabel('True Positive Rate')\n",
    "plt.title('ROC Curve')\n",
    "plt.legend(loc='lower right')\n",
    "plt.grid(True, alpha=0.3)\n",
    "plt.tight_layout()\n",
    "plt.show()"
   ]
  },
  {
   "cell_type": "markdown",
   "id": "8450e438",
   "metadata": {},
   "source": [
    "## Adding new features"
   ]
  },
  {
   "cell_type": "code",
   "execution_count": 47,
   "id": "1160f728",
   "metadata": {},
   "outputs": [],
   "source": [
    "first_model_data['ret_1'] = first_model_data['close'].pct_change(1)\n",
    "first_model_data['ret_5'] = first_model_data['close'].pct_change(5)\n",
    "\n",
    "first_model_data['ma_fast'] = first_model_data['close'].rolling(10).mean()\n",
    "first_model_data['ma_slow'] = first_model_data['close'].rolling(50).mean()\n",
    "first_model_data['ma_ratio'] = first_model_data['ma_fast'] / first_model_data['ma_slow'] - 1\n",
    "\n",
    "first_model_data['vol_chg'] = first_model_data['volume'].pct_change(1)\n",
    "first_model_data['hl_spread'] = (first_model_data['high'] - first_model_data['low']) / first_model_data['close']\n",
    "\n",
    "\n",
    "\n",
    "ema_12 = first_model_data['close'].ewm(span=12, adjust=False).mean()\n",
    "ema_26 = first_model_data['close'].ewm(span=26, adjust=False).mean()\n",
    "first_model_data['macd'] = ema_12 - ema_26\n",
    "first_model_data['macd_signal'] = first_model_data['macd'].ewm(span=9, adjust=False).mean()\n",
    "first_model_data['macd_hist'] = first_model_data['macd'] - first_model_data['macd_signal']\n",
    "\n",
    "delta = first_model_data['close'].diff()\n",
    "gain = delta.clip(lower=0)\n",
    "loss = (-delta).clip(lower=0)\n",
    "avg_gain = gain.rolling(14, min_periods=14).mean()\n",
    "avg_loss = loss.rolling(14, min_periods=14).mean()\n",
    "rs = avg_gain / avg_loss.replace(0, np.nan)\n",
    "first_model_data['rsi'] = 100 - (100 / (1 + rs))\n",
    "\n",
    "\n",
    "first_model_data['trend_strength'] = (first_model_data['ma_fast'] - first_model_data['ma_slow']) / first_model_data['ma_slow']\n",
    "first_model_data['price_above_ma'] = (first_model_data['close'] > first_model_data['ma_slow']).astype(int)\n",
    "\n",
    "first_model_data = first_model_data.dropna()\n",
    "\n",
    "\n",
    "split_idx = int(len(first_model_data) * 0.8)\n",
    "train = first_model_data.iloc[:split_idx]\n",
    "test  = first_model_data.iloc[split_idx:]\n",
    "\n",
    "features = [\n",
    "    'open','high','low','close','volume',\n",
    "    'cum_buy_volume','cum_ticks','cum_dollar_value',\n",
    "    'ret_1','ret_5','ma_ratio','vol_chg','hl_spread',\n",
    "    'macd','macd_signal','macd_hist',\n",
    "    'rsi','trend_strength','price_above_ma','trgt'\n",
    "]\n",
    "\n",
    "X_train, y_train = train[features], train['bin']\n",
    "X_test,  y_test  = test[features],  test['bin']"
   ]
  },
  {
   "cell_type": "code",
   "execution_count": 48,
   "id": "d502faf1",
   "metadata": {},
   "outputs": [
    {
     "name": "stdout",
     "output_type": "stream",
     "text": [
      "[[50 36]\n",
      " [32 45]]\n",
      "              precision    recall  f1-score   support\n",
      "\n",
      "    neg (-1)      0.610     0.581     0.595        86\n",
      "     pos (1)      0.556     0.584     0.570        77\n",
      "\n",
      "    accuracy                          0.583       163\n",
      "   macro avg      0.583     0.583     0.582       163\n",
      "weighted avg      0.584     0.583     0.583       163\n",
      "\n",
      "AUC (train): 0.835\n",
      "AUC (test):  0.614\n"
     ]
    }
   ],
   "source": [
    "from sklearn.ensemble import RandomForestClassifier\n",
    "from sklearn.metrics import confusion_matrix, classification_report, roc_auc_score\n",
    "import numpy as np\n",
    "\n",
    "rf_features = RandomForestClassifier(\n",
    "    bootstrap=True,\n",
    "    class_weight='balanced',\n",
    "    max_depth=4,\n",
    "    max_features=0.5,\n",
    "    min_samples_leaf=2,\n",
    "    min_samples_split=2,\n",
    "    n_estimators=100,\n",
    "    n_jobs=-1,\n",
    "    random_state=42\n",
    ")\n",
    "\n",
    "rf_features.fit(X_train, y_train)\n",
    "\n",
    "\n",
    "y_proba_test = rf_features.predict_proba(X_test)[:, 1]\n",
    "threshold = 0.4\n",
    "y_pred = np.where(y_proba_test > threshold, 1, -1)\n",
    "\n",
    "\n",
    "print(confusion_matrix(y_test, y_pred, labels=[-1, 1]))\n",
    "print(classification_report(y_test, y_pred, labels=[-1, 1],\n",
    "                            target_names=['neg (-1)', 'pos (1)'], digits=3))\n",
    "\n",
    "y_proba_train = rf_features.predict_proba(X_train)[:, 1]\n",
    "train_auc = roc_auc_score(y_train, y_proba_train)\n",
    "test_auc  = roc_auc_score(y_test,  y_proba_test)\n",
    "\n",
    "print(f\"AUC (train): {train_auc:.3f}\")\n",
    "print(f\"AUC (test):  {test_auc:.3f}\")"
   ]
  },
  {
   "cell_type": "code",
   "execution_count": 49,
   "id": "e8a3e303",
   "metadata": {},
   "outputs": [
    {
     "name": "stdout",
     "output_type": "stream",
     "text": [
      "AUC Score: 0.614\n"
     ]
    },
    {
     "data": {
      "image/png": "[encoded data removed]",
      "text/plain": [
       "<Figure size 700x600 with 1 Axes>"
      ]
     },
     "metadata": {},
     "output_type": "display_data"
    }
   ],
   "source": [
    "y_prob = rf_features.predict_proba(X_test)[:, 1]\n",
    "fpr, tpr, thresholds = roc_curve(y_test, y_prob, pos_label=1)\n",
    "roc_auc = auc(fpr, tpr)\n",
    "print(f\"AUC Score: {roc_auc:.3f}\")\n",
    "\n",
    "plt.figure(figsize=(7, 6))\n",
    "plt.plot(fpr, tpr, color='blue', lw=2, label=f'Random Forest (AUC = {roc_auc:.3f})')\n",
    "plt.plot([0, 1], [0, 1], color='gray', lw=1, linestyle='--', label='No Skill')\n",
    "plt.xlabel('False Positive Rate')\n",
    "plt.ylabel('True Positive Rate')\n",
    "plt.title('ROC Curve')\n",
    "plt.legend(loc='lower right')\n",
    "plt.grid(True, alpha=0.3)\n",
    "plt.tight_layout()\n",
    "plt.show()"
   ]
  },
  {
   "cell_type": "markdown",
   "id": "08ddcbc6",
   "metadata": {},
   "source": [
    "## Training LightGBM"
   ]
  },
  {
   "cell_type": "code",
   "execution_count": 52,
   "id": "1d1be2e8",
   "metadata": {},
   "outputs": [
    {
     "name": "stdout",
     "output_type": "stream",
     "text": [
      "[[51 35]\n",
      " [30 47]]\n",
      "              precision    recall  f1-score   support\n",
      "\n",
      "        -1.0      0.630     0.593     0.611        86\n",
      "         1.0      0.573     0.610     0.591        77\n",
      "\n",
      "    accuracy                          0.601       163\n",
      "   macro avg      0.601     0.602     0.601       163\n",
      "weighted avg      0.603     0.601     0.602       163\n",
      "\n",
      "AUC Score: 0.618\n"
     ]
    },
    {
     "data": {
      "image/png": "[encoded data removed]",
      "text/plain": [
       "<Figure size 700x600 with 1 Axes>"
      ]
     },
     "metadata": {},
     "output_type": "display_data"
    }
   ],
   "source": [
    "from lightgbm import LGBMClassifier\n",
    "from sklearn.metrics import confusion_matrix, classification_report, roc_curve, auc\n",
    "\n",
    "\n",
    "y_train_bin = (y_train == 1).astype(int)\n",
    "y_test_bin  = (y_test  == 1).astype(int)\n",
    "\n",
    "\n",
    "lgbm = LGBMClassifier(\n",
    "    n_estimators=300,\n",
    "    max_depth=8,\n",
    "    learning_rate=0.05,\n",
    "    subsample=0.8,\n",
    "    colsample_bytree=0.8,\n",
    "    class_weight='balanced',\n",
    "    objective='binary',\n",
    "    random_state=42,\n",
    "    n_jobs=-1,\n",
    "    verbose=-1\n",
    ")\n",
    "\n",
    "\n",
    "lgbm.fit(X_train, y_train_bin)\n",
    "\n",
    "\n",
    "y_proba = lgbm.predict_proba(X_test)[:, 1]\n",
    "threshold = 0.4\n",
    "\n",
    "y_pred = np.where(y_proba > threshold, 1, -1)\n",
    "\n",
    "\n",
    "print(confusion_matrix(y_test, y_pred))\n",
    "print(classification_report(y_test, y_pred, digits=3))\n",
    "\n",
    "\n",
    "fpr, tpr, thresholds = roc_curve(y_test_bin, y_proba, pos_label=1)\n",
    "roc_auc = auc(fpr, tpr)\n",
    "print(f\"AUC Score: {roc_auc:.3f}\")\n",
    "\n",
    "\n",
    "plt.figure(figsize=(7, 6))\n",
    "plt.plot(fpr, tpr, lw=2, label=f'LightGBM (AUC = {roc_auc:.3f})')\n",
    "plt.plot([0, 1], [0, 1], lw=1, linestyle='--', label='No Skill')\n",
    "plt.xlabel('False Positive Rate')\n",
    "plt.ylabel('True Positive Rate')\n",
    "plt.title('ROC Curve')\n",
    "plt.legend(loc='lower right')\n",
    "plt.grid(True, alpha=0.3)\n",
    "plt.tight_layout()\n",
    "plt.show()"
   ]
  },
  {
   "cell_type": "code",
   "execution_count": 34,
   "id": "2ad7bd6f",
   "metadata": {},
   "outputs": [
    {
     "data": {
      "text/plain": [
       "(648, 20)"
      ]
     },
     "execution_count": 34,
     "metadata": {},
     "output_type": "execute_result"
    }
   ],
   "source": [
    "X_train.shape"
   ]
  },
  {
   "cell_type": "code",
   "execution_count": 35,
   "id": "de1029ef",
   "metadata": {},
   "outputs": [
    {
     "data": {
      "text/plain": [
       "(163, 20)"
      ]
     },
     "execution_count": 35,
     "metadata": {},
     "output_type": "execute_result"
    }
   ],
   "source": [
    "X_test.shape"
   ]
  },
  {
   "cell_type": "code",
   "execution_count": null,
   "id": "8f091c96",
   "metadata": {},
   "outputs": [],
   "source": []
  },
  {
   "cell_type": "code",
   "execution_count": null,
   "id": "eee9c0f1",
   "metadata": {},
   "outputs": [],
   "source": []
  }
 ],
 "metadata": {
  "kernelspec": {
   "display_name": "disertatie",
   "language": "python",
   "name": "python3"
  },
  "language_info": {
   "codemirror_mode": {
    "name": "ipython",
    "version": 3
   },
   "file_extension": ".py",
   "mimetype": "text/x-python",
   "name": "python",
   "nbconvert_exporter": "python",
   "pygments_lexer": "ipython3",
   "version": "3.11.11"
  }
 },
 "nbformat": 4,
 "nbformat_minor": 5
}
