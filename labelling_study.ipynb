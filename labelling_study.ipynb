{
 "cells": [
  {
   "cell_type": "code",
   "execution_count": 482,
   "id": "71ef9adf",
   "metadata": {},
   "outputs": [],
   "source": [
    "import pandas as pd\n",
    "df = pd.read_csv('./dataset/btc-01_2025-09-2025-volume-15min/btc-01_2025-09-2025-volume-15min.csv')"
   ]
  },
  {
   "cell_type": "code",
   "execution_count": 483,
   "id": "8127ddaa",
   "metadata": {},
   "outputs": [
    {
     "data": {
      "text/plain": [
       "(19686, 10)"
      ]
     },
     "execution_count": 483,
     "metadata": {},
     "output_type": "execute_result"
    }
   ],
   "source": [
    "df.shape"
   ]
  },
  {
   "cell_type": "code",
   "execution_count": 484,
   "id": "e421c115",
   "metadata": {},
   "outputs": [
    {
     "data": {
      "text/html": [
       "<div>\n",
       "<style scoped>\n",
       "    .dataframe tbody tr th:only-of-type {\n",
       "        vertical-align: middle;\n",
       "    }\n",
       "\n",
       "    .dataframe tbody tr th {\n",
       "        vertical-align: top;\n",
       "    }\n",
       "\n",
       "    .dataframe thead th {\n",
       "        text-align: right;\n",
       "    }\n",
       "</style>\n",
       "<table border=\"1\" class=\"dataframe\">\n",
       "  <thead>\n",
       "    <tr style=\"text-align: right;\">\n",
       "      <th></th>\n",
       "      <th>date_time</th>\n",
       "      <th>tick_num</th>\n",
       "      <th>open</th>\n",
       "      <th>high</th>\n",
       "      <th>low</th>\n",
       "      <th>close</th>\n",
       "      <th>volume</th>\n",
       "      <th>cum_buy_volume</th>\n",
       "      <th>cum_ticks</th>\n",
       "      <th>cum_dollar_value</th>\n",
       "    </tr>\n",
       "  </thead>\n",
       "  <tbody>\n",
       "    <tr>\n",
       "      <th>0</th>\n",
       "      <td>2025-01-01 00:32:32.519130+00:00</td>\n",
       "      <td>46273</td>\n",
       "      <td>93576.00</td>\n",
       "      <td>93940.00</td>\n",
       "      <td>93489.03</td>\n",
       "      <td>93940.00</td>\n",
       "      <td>290.05130</td>\n",
       "      <td>128.99844</td>\n",
       "      <td>46273</td>\n",
       "      <td>2.717276e+07</td>\n",
       "    </tr>\n",
       "    <tr>\n",
       "      <th>1</th>\n",
       "      <td>2025-01-01 00:57:57.067039+00:00</td>\n",
       "      <td>82520</td>\n",
       "      <td>93940.00</td>\n",
       "      <td>94330.59</td>\n",
       "      <td>93836.61</td>\n",
       "      <td>94320.00</td>\n",
       "      <td>290.12551</td>\n",
       "      <td>208.66780</td>\n",
       "      <td>36247</td>\n",
       "      <td>2.729984e+07</td>\n",
       "    </tr>\n",
       "    <tr>\n",
       "      <th>2</th>\n",
       "      <td>2025-01-01 01:05:28.341289+00:00</td>\n",
       "      <td>109125</td>\n",
       "      <td>94320.00</td>\n",
       "      <td>94509.42</td>\n",
       "      <td>93997.86</td>\n",
       "      <td>94000.00</td>\n",
       "      <td>292.83859</td>\n",
       "      <td>156.24683</td>\n",
       "      <td>26605</td>\n",
       "      <td>2.760956e+07</td>\n",
       "    </tr>\n",
       "    <tr>\n",
       "      <th>3</th>\n",
       "      <td>2025-01-01 01:31:56.527742+00:00</td>\n",
       "      <td>143810</td>\n",
       "      <td>94000.00</td>\n",
       "      <td>94172.00</td>\n",
       "      <td>93819.60</td>\n",
       "      <td>93947.67</td>\n",
       "      <td>292.12049</td>\n",
       "      <td>130.53835</td>\n",
       "      <td>34685</td>\n",
       "      <td>2.744654e+07</td>\n",
       "    </tr>\n",
       "    <tr>\n",
       "      <th>4</th>\n",
       "      <td>2025-01-01 02:16:23.680412+00:00</td>\n",
       "      <td>195758</td>\n",
       "      <td>93947.67</td>\n",
       "      <td>93978.18</td>\n",
       "      <td>93578.77</td>\n",
       "      <td>93753.02</td>\n",
       "      <td>290.00191</td>\n",
       "      <td>144.23861</td>\n",
       "      <td>51948</td>\n",
       "      <td>2.719289e+07</td>\n",
       "    </tr>\n",
       "  </tbody>\n",
       "</table>\n",
       "</div>"
      ],
      "text/plain": [
       "                          date_time  tick_num      open      high       low  \\\n",
       "0  2025-01-01 00:32:32.519130+00:00     46273  93576.00  93940.00  93489.03   \n",
       "1  2025-01-01 00:57:57.067039+00:00     82520  93940.00  94330.59  93836.61   \n",
       "2  2025-01-01 01:05:28.341289+00:00    109125  94320.00  94509.42  93997.86   \n",
       "3  2025-01-01 01:31:56.527742+00:00    143810  94000.00  94172.00  93819.60   \n",
       "4  2025-01-01 02:16:23.680412+00:00    195758  93947.67  93978.18  93578.77   \n",
       "\n",
       "      close     volume  cum_buy_volume  cum_ticks  cum_dollar_value  \n",
       "0  93940.00  290.05130       128.99844      46273      2.717276e+07  \n",
       "1  94320.00  290.12551       208.66780      36247      2.729984e+07  \n",
       "2  94000.00  292.83859       156.24683      26605      2.760956e+07  \n",
       "3  93947.67  292.12049       130.53835      34685      2.744654e+07  \n",
       "4  93753.02  290.00191       144.23861      51948      2.719289e+07  "
      ]
     },
     "execution_count": 484,
     "metadata": {},
     "output_type": "execute_result"
    }
   ],
   "source": [
    "df.head()"
   ]
  },
  {
   "cell_type": "code",
   "execution_count": 485,
   "id": "bfdd4fbf",
   "metadata": {},
   "outputs": [
    {
     "name": "stdout",
     "output_type": "stream",
     "text": [
      "<class 'pandas.core.frame.DataFrame'>\n",
      "RangeIndex: 19686 entries, 0 to 19685\n",
      "Data columns (total 10 columns):\n",
      " #   Column            Non-Null Count  Dtype  \n",
      "---  ------            --------------  -----  \n",
      " 0   date_time         19686 non-null  object \n",
      " 1   tick_num          19686 non-null  int64  \n",
      " 2   open              19686 non-null  float64\n",
      " 3   high              19686 non-null  float64\n",
      " 4   low               19686 non-null  float64\n",
      " 5   close             19686 non-null  float64\n",
      " 6   volume            19686 non-null  float64\n",
      " 7   cum_buy_volume    19686 non-null  float64\n",
      " 8   cum_ticks         19686 non-null  int64  \n",
      " 9   cum_dollar_value  19686 non-null  float64\n",
      "dtypes: float64(7), int64(2), object(1)\n",
      "memory usage: 1.5+ MB\n"
     ]
    }
   ],
   "source": [
    "df.info()"
   ]
  },
  {
   "cell_type": "code",
   "execution_count": 486,
   "id": "0fdb43b5",
   "metadata": {},
   "outputs": [
    {
     "name": "stdout",
     "output_type": "stream",
     "text": [
      "<class 'pandas.core.frame.DataFrame'>\n",
      "DatetimeIndex: 19686 entries, 2025-01-01 00:32:32.519130+00:00 to 2025-09-30 23:12:57.728052+00:00\n",
      "Data columns (total 9 columns):\n",
      " #   Column            Non-Null Count  Dtype  \n",
      "---  ------            --------------  -----  \n",
      " 0   tick_num          19686 non-null  int64  \n",
      " 1   open              19686 non-null  float64\n",
      " 2   high              19686 non-null  float64\n",
      " 3   low               19686 non-null  float64\n",
      " 4   close             19686 non-null  float64\n",
      " 5   volume            19686 non-null  float64\n",
      " 6   cum_buy_volume    19686 non-null  float64\n",
      " 7   cum_ticks         19686 non-null  int64  \n",
      " 8   cum_dollar_value  19686 non-null  float64\n",
      "dtypes: float64(7), int64(2)\n",
      "memory usage: 1.5 MB\n"
     ]
    }
   ],
   "source": [
    "df['date_time'] = pd.to_datetime(df['date_time'])\n",
    "df = df.set_index('date_time')\n",
    "df.info()"
   ]
  },
  {
   "cell_type": "code",
   "execution_count": 487,
   "id": "0474337e",
   "metadata": {},
   "outputs": [
    {
     "data": {
      "text/html": [
       "<div>\n",
       "<style scoped>\n",
       "    .dataframe tbody tr th:only-of-type {\n",
       "        vertical-align: middle;\n",
       "    }\n",
       "\n",
       "    .dataframe tbody tr th {\n",
       "        vertical-align: top;\n",
       "    }\n",
       "\n",
       "    .dataframe thead th {\n",
       "        text-align: right;\n",
       "    }\n",
       "</style>\n",
       "<table border=\"1\" class=\"dataframe\">\n",
       "  <thead>\n",
       "    <tr style=\"text-align: right;\">\n",
       "      <th></th>\n",
       "      <th>tick_num</th>\n",
       "      <th>open</th>\n",
       "      <th>high</th>\n",
       "      <th>low</th>\n",
       "      <th>close</th>\n",
       "      <th>volume</th>\n",
       "      <th>cum_buy_volume</th>\n",
       "      <th>cum_ticks</th>\n",
       "      <th>cum_dollar_value</th>\n",
       "    </tr>\n",
       "    <tr>\n",
       "      <th>date_time</th>\n",
       "      <th></th>\n",
       "      <th></th>\n",
       "      <th></th>\n",
       "      <th></th>\n",
       "      <th></th>\n",
       "      <th></th>\n",
       "      <th></th>\n",
       "      <th></th>\n",
       "      <th></th>\n",
       "    </tr>\n",
       "  </thead>\n",
       "  <tbody>\n",
       "    <tr>\n",
       "      <th>2025-01-01 00:32:32.519130+00:00</th>\n",
       "      <td>46273</td>\n",
       "      <td>93576.00</td>\n",
       "      <td>93940.00</td>\n",
       "      <td>93489.03</td>\n",
       "      <td>93940.00</td>\n",
       "      <td>290.05130</td>\n",
       "      <td>128.99844</td>\n",
       "      <td>46273</td>\n",
       "      <td>2.717276e+07</td>\n",
       "    </tr>\n",
       "    <tr>\n",
       "      <th>2025-01-01 00:57:57.067039+00:00</th>\n",
       "      <td>82520</td>\n",
       "      <td>93940.00</td>\n",
       "      <td>94330.59</td>\n",
       "      <td>93836.61</td>\n",
       "      <td>94320.00</td>\n",
       "      <td>290.12551</td>\n",
       "      <td>208.66780</td>\n",
       "      <td>36247</td>\n",
       "      <td>2.729984e+07</td>\n",
       "    </tr>\n",
       "    <tr>\n",
       "      <th>2025-01-01 01:05:28.341289+00:00</th>\n",
       "      <td>109125</td>\n",
       "      <td>94320.00</td>\n",
       "      <td>94509.42</td>\n",
       "      <td>93997.86</td>\n",
       "      <td>94000.00</td>\n",
       "      <td>292.83859</td>\n",
       "      <td>156.24683</td>\n",
       "      <td>26605</td>\n",
       "      <td>2.760956e+07</td>\n",
       "    </tr>\n",
       "    <tr>\n",
       "      <th>2025-01-01 01:31:56.527742+00:00</th>\n",
       "      <td>143810</td>\n",
       "      <td>94000.00</td>\n",
       "      <td>94172.00</td>\n",
       "      <td>93819.60</td>\n",
       "      <td>93947.67</td>\n",
       "      <td>292.12049</td>\n",
       "      <td>130.53835</td>\n",
       "      <td>34685</td>\n",
       "      <td>2.744654e+07</td>\n",
       "    </tr>\n",
       "    <tr>\n",
       "      <th>2025-01-01 02:16:23.680412+00:00</th>\n",
       "      <td>195758</td>\n",
       "      <td>93947.67</td>\n",
       "      <td>93978.18</td>\n",
       "      <td>93578.77</td>\n",
       "      <td>93753.02</td>\n",
       "      <td>290.00191</td>\n",
       "      <td>144.23861</td>\n",
       "      <td>51948</td>\n",
       "      <td>2.719289e+07</td>\n",
       "    </tr>\n",
       "  </tbody>\n",
       "</table>\n",
       "</div>"
      ],
      "text/plain": [
       "                                  tick_num      open      high       low  \\\n",
       "date_time                                                                  \n",
       "2025-01-01 00:32:32.519130+00:00     46273  93576.00  93940.00  93489.03   \n",
       "2025-01-01 00:57:57.067039+00:00     82520  93940.00  94330.59  93836.61   \n",
       "2025-01-01 01:05:28.341289+00:00    109125  94320.00  94509.42  93997.86   \n",
       "2025-01-01 01:31:56.527742+00:00    143810  94000.00  94172.00  93819.60   \n",
       "2025-01-01 02:16:23.680412+00:00    195758  93947.67  93978.18  93578.77   \n",
       "\n",
       "                                     close     volume  cum_buy_volume  \\\n",
       "date_time                                                               \n",
       "2025-01-01 00:32:32.519130+00:00  93940.00  290.05130       128.99844   \n",
       "2025-01-01 00:57:57.067039+00:00  94320.00  290.12551       208.66780   \n",
       "2025-01-01 01:05:28.341289+00:00  94000.00  292.83859       156.24683   \n",
       "2025-01-01 01:31:56.527742+00:00  93947.67  292.12049       130.53835   \n",
       "2025-01-01 02:16:23.680412+00:00  93753.02  290.00191       144.23861   \n",
       "\n",
       "                                  cum_ticks  cum_dollar_value  \n",
       "date_time                                                      \n",
       "2025-01-01 00:32:32.519130+00:00      46273      2.717276e+07  \n",
       "2025-01-01 00:57:57.067039+00:00      36247      2.729984e+07  \n",
       "2025-01-01 01:05:28.341289+00:00      26605      2.760956e+07  \n",
       "2025-01-01 01:31:56.527742+00:00      34685      2.744654e+07  \n",
       "2025-01-01 02:16:23.680412+00:00      51948      2.719289e+07  "
      ]
     },
     "execution_count": 487,
     "metadata": {},
     "output_type": "execute_result"
    }
   ],
   "source": [
    "df.head()"
   ]
  },
  {
   "cell_type": "markdown",
   "id": "c8d6bc8c",
   "metadata": {},
   "source": [
    "## Aplly symmetric CUSUM filter where the threshold is the standard deviation of daily returns"
   ]
  },
  {
   "cell_type": "code",
   "execution_count": 488,
   "id": "6c606864",
   "metadata": {},
   "outputs": [],
   "source": [
    "import numpy as np\n",
    "daily = df['close'].resample('1D').last().to_frame()\n",
    "daily['returns'] = np.log(daily['close'] / daily['close'].shift(1))\n",
    "daily.dropna(inplace=True)"
   ]
  },
  {
   "cell_type": "code",
   "execution_count": 489,
   "id": "aa56ed16",
   "metadata": {},
   "outputs": [
    {
     "data": {
      "text/html": [
       "<div>\n",
       "<style scoped>\n",
       "    .dataframe tbody tr th:only-of-type {\n",
       "        vertical-align: middle;\n",
       "    }\n",
       "\n",
       "    .dataframe tbody tr th {\n",
       "        vertical-align: top;\n",
       "    }\n",
       "\n",
       "    .dataframe thead th {\n",
       "        text-align: right;\n",
       "    }\n",
       "</style>\n",
       "<table border=\"1\" class=\"dataframe\">\n",
       "  <thead>\n",
       "    <tr style=\"text-align: right;\">\n",
       "      <th></th>\n",
       "      <th>close</th>\n",
       "      <th>returns</th>\n",
       "    </tr>\n",
       "    <tr>\n",
       "      <th>date_time</th>\n",
       "      <th></th>\n",
       "      <th></th>\n",
       "    </tr>\n",
       "  </thead>\n",
       "  <tbody>\n",
       "    <tr>\n",
       "      <th>2025-01-02 00:00:00+00:00</th>\n",
       "      <td>97005.19</td>\n",
       "      <td>0.024521</td>\n",
       "    </tr>\n",
       "    <tr>\n",
       "      <th>2025-01-03 00:00:00+00:00</th>\n",
       "      <td>98119.37</td>\n",
       "      <td>0.011420</td>\n",
       "    </tr>\n",
       "    <tr>\n",
       "      <th>2025-01-04 00:00:00+00:00</th>\n",
       "      <td>98220.50</td>\n",
       "      <td>0.001030</td>\n",
       "    </tr>\n",
       "    <tr>\n",
       "      <th>2025-01-05 00:00:00+00:00</th>\n",
       "      <td>98644.01</td>\n",
       "      <td>0.004303</td>\n",
       "    </tr>\n",
       "    <tr>\n",
       "      <th>2025-01-06 00:00:00+00:00</th>\n",
       "      <td>101998.16</td>\n",
       "      <td>0.033437</td>\n",
       "    </tr>\n",
       "  </tbody>\n",
       "</table>\n",
       "</div>"
      ],
      "text/plain": [
       "                               close   returns\n",
       "date_time                                     \n",
       "2025-01-02 00:00:00+00:00   97005.19  0.024521\n",
       "2025-01-03 00:00:00+00:00   98119.37  0.011420\n",
       "2025-01-04 00:00:00+00:00   98220.50  0.001030\n",
       "2025-01-05 00:00:00+00:00   98644.01  0.004303\n",
       "2025-01-06 00:00:00+00:00  101998.16  0.033437"
      ]
     },
     "execution_count": 489,
     "metadata": {},
     "output_type": "execute_result"
    }
   ],
   "source": [
    "daily.head()"
   ]
  },
  {
   "cell_type": "code",
   "execution_count": 490,
   "id": "e56df9d5",
   "metadata": {},
   "outputs": [
    {
     "data": {
      "text/plain": [
       "0.021981948882745583"
      ]
     },
     "execution_count": 490,
     "metadata": {},
     "output_type": "execute_result"
    }
   ],
   "source": [
    "std_daily_ret = daily['returns'].std()\n",
    "std_daily_ret"
   ]
  },
  {
   "cell_type": "code",
   "execution_count": 491,
   "id": "fcf643c6",
   "metadata": {},
   "outputs": [],
   "source": [
    "from mlfinpy.filters import cusum_filter\n",
    "cusum_events = cusum_filter(df['close'], threshold = std_daily_ret)"
   ]
  },
  {
   "cell_type": "code",
   "execution_count": 492,
   "id": "5fa1a2c7",
   "metadata": {},
   "outputs": [
    {
     "data": {
      "text/plain": [
       "445"
      ]
     },
     "execution_count": 492,
     "metadata": {},
     "output_type": "execute_result"
    }
   ],
   "source": [
    "len(cusum_events)"
   ]
  },
  {
   "cell_type": "code",
   "execution_count": 493,
   "id": "e5c568f2",
   "metadata": {},
   "outputs": [],
   "source": [
    "from mlfinpy.labeling.labeling import add_vertical_barrier\n",
    "\n",
    "verticle_barriers = add_vertical_barrier(cusum_events, df['close'],num_days=1)"
   ]
  },
  {
   "cell_type": "code",
   "execution_count": 494,
   "id": "d017f68d",
   "metadata": {},
   "outputs": [
    {
     "data": {
      "text/plain": [
       "2025-01-02 00:46:36.027416+00:00   2025-01-03 01:17:25.035333+00:00\n",
       "2025-01-02 12:20:05.415519+00:00   2025-01-03 13:02:37.110693+00:00\n",
       "2025-01-03 16:25:56.727509+00:00   2025-01-04 16:34:45.459982+00:00\n",
       "2025-01-06 05:40:00.846638+00:00   2025-01-07 05:42:46.034939+00:00\n",
       "2025-01-06 14:54:09.659062+00:00   2025-01-07 14:56:34.063398+00:00\n",
       "Name: date_time, dtype: datetime64[ns, UTC]"
      ]
     },
     "execution_count": 494,
     "metadata": {},
     "output_type": "execute_result"
    }
   ],
   "source": [
    "verticle_barriers.head()"
   ]
  },
  {
   "cell_type": "code",
   "execution_count": 495,
   "id": "d54e2512",
   "metadata": {},
   "outputs": [
    {
     "name": "stderr",
     "output_type": "stream",
     "text": [
      "2025-10-19 01:45:44.060461 100.0% triple_barriers done after 0.02 minutes. Remaining 0.0 minutes..\n"
     ]
    }
   ],
   "source": [
    "from mlfinpy.labeling.labeling import get_events, drop_labels\n",
    "from mlfinpy.util import get_daily_vol\n",
    "from mlfinpy.labeling import get_events\n",
    "\n",
    "pt_sl = [1, 1]\n",
    "min_ret = 0.005\n",
    "daily_vol = get_daily_vol(close=df['close'], lookback=50)\n",
    "triple_barrier_events = get_events(close=df['close'],\n",
    "                                               t_events=cusum_events,\n",
    "                                               pt_sl=pt_sl,\n",
    "                                               target=daily_vol,\n",
    "                                               min_ret=min_ret,\n",
    "                                               num_threads=3,\n",
    "                                               vertical_barrier_times=verticle_barriers,\n",
    "                                               side_prediction=None)"
   ]
  },
  {
   "cell_type": "code",
   "execution_count": 496,
   "id": "ffbed2c7",
   "metadata": {},
   "outputs": [
    {
     "data": {
      "text/html": [
       "<div>\n",
       "<style scoped>\n",
       "    .dataframe tbody tr th:only-of-type {\n",
       "        vertical-align: middle;\n",
       "    }\n",
       "\n",
       "    .dataframe tbody tr th {\n",
       "        vertical-align: top;\n",
       "    }\n",
       "\n",
       "    .dataframe thead th {\n",
       "        text-align: right;\n",
       "    }\n",
       "</style>\n",
       "<table border=\"1\" class=\"dataframe\">\n",
       "  <thead>\n",
       "    <tr style=\"text-align: right;\">\n",
       "      <th></th>\n",
       "      <th>t1</th>\n",
       "      <th>trgt</th>\n",
       "      <th>pt</th>\n",
       "      <th>sl</th>\n",
       "    </tr>\n",
       "  </thead>\n",
       "  <tbody>\n",
       "    <tr>\n",
       "      <th>2025-01-02 12:20:05.415519+00:00</th>\n",
       "      <td>2025-01-03 13:02:37.110693+00:00</td>\n",
       "      <td>0.009694</td>\n",
       "      <td>1</td>\n",
       "      <td>1</td>\n",
       "    </tr>\n",
       "    <tr>\n",
       "      <th>2025-01-03 16:25:56.727509+00:00</th>\n",
       "      <td>2025-01-04 16:34:45.459982+00:00</td>\n",
       "      <td>0.011632</td>\n",
       "      <td>1</td>\n",
       "      <td>1</td>\n",
       "    </tr>\n",
       "    <tr>\n",
       "      <th>2025-01-06 05:40:00.846638+00:00</th>\n",
       "      <td>2025-01-06 08:51:49.910793+00:00</td>\n",
       "      <td>0.006006</td>\n",
       "      <td>1</td>\n",
       "      <td>1</td>\n",
       "    </tr>\n",
       "    <tr>\n",
       "      <th>2025-01-06 14:54:09.659062+00:00</th>\n",
       "      <td>2025-01-06 15:53:36.356980+00:00</td>\n",
       "      <td>0.010038</td>\n",
       "      <td>1</td>\n",
       "      <td>1</td>\n",
       "    </tr>\n",
       "    <tr>\n",
       "      <th>2025-01-07 14:37:09.217248+00:00</th>\n",
       "      <td>2025-01-07 15:07:50.195220+00:00</td>\n",
       "      <td>0.010228</td>\n",
       "      <td>1</td>\n",
       "      <td>1</td>\n",
       "    </tr>\n",
       "    <tr>\n",
       "      <th>...</th>\n",
       "      <td>...</td>\n",
       "      <td>...</td>\n",
       "      <td>...</td>\n",
       "      <td>...</td>\n",
       "    </tr>\n",
       "    <tr>\n",
       "      <th>2025-09-22 06:00:16.600500+00:00</th>\n",
       "      <td>2025-09-22 06:02:06.873261+00:00</td>\n",
       "      <td>0.006751</td>\n",
       "      <td>1</td>\n",
       "      <td>1</td>\n",
       "    </tr>\n",
       "    <tr>\n",
       "      <th>2025-09-25 12:30:00.083393+00:00</th>\n",
       "      <td>2025-09-25 17:20:34.660156+00:00</td>\n",
       "      <td>0.008702</td>\n",
       "      <td>1</td>\n",
       "      <td>1</td>\n",
       "    </tr>\n",
       "    <tr>\n",
       "      <th>2025-09-25 17:50:27.578371+00:00</th>\n",
       "      <td>2025-09-26 17:51:27.215809+00:00</td>\n",
       "      <td>0.013774</td>\n",
       "      <td>1</td>\n",
       "      <td>1</td>\n",
       "    </tr>\n",
       "    <tr>\n",
       "      <th>2025-09-28 22:10:24.601186+00:00</th>\n",
       "      <td>2025-09-29 13:43:12.088604+00:00</td>\n",
       "      <td>0.011553</td>\n",
       "      <td>1</td>\n",
       "      <td>1</td>\n",
       "    </tr>\n",
       "    <tr>\n",
       "      <th>2025-09-29 14:43:41.630672+00:00</th>\n",
       "      <td>2025-09-30 14:53:17.696142+00:00</td>\n",
       "      <td>0.013921</td>\n",
       "      <td>1</td>\n",
       "      <td>1</td>\n",
       "    </tr>\n",
       "  </tbody>\n",
       "</table>\n",
       "<p>440 rows × 4 columns</p>\n",
       "</div>"
      ],
      "text/plain": [
       "                                                               t1      trgt  \\\n",
       "2025-01-02 12:20:05.415519+00:00 2025-01-03 13:02:37.110693+00:00  0.009694   \n",
       "2025-01-03 16:25:56.727509+00:00 2025-01-04 16:34:45.459982+00:00  0.011632   \n",
       "2025-01-06 05:40:00.846638+00:00 2025-01-06 08:51:49.910793+00:00  0.006006   \n",
       "2025-01-06 14:54:09.659062+00:00 2025-01-06 15:53:36.356980+00:00  0.010038   \n",
       "2025-01-07 14:37:09.217248+00:00 2025-01-07 15:07:50.195220+00:00  0.010228   \n",
       "...                                                           ...       ...   \n",
       "2025-09-22 06:00:16.600500+00:00 2025-09-22 06:02:06.873261+00:00  0.006751   \n",
       "2025-09-25 12:30:00.083393+00:00 2025-09-25 17:20:34.660156+00:00  0.008702   \n",
       "2025-09-25 17:50:27.578371+00:00 2025-09-26 17:51:27.215809+00:00  0.013774   \n",
       "2025-09-28 22:10:24.601186+00:00 2025-09-29 13:43:12.088604+00:00  0.011553   \n",
       "2025-09-29 14:43:41.630672+00:00 2025-09-30 14:53:17.696142+00:00  0.013921   \n",
       "\n",
       "                                  pt  sl  \n",
       "2025-01-02 12:20:05.415519+00:00   1   1  \n",
       "2025-01-03 16:25:56.727509+00:00   1   1  \n",
       "2025-01-06 05:40:00.846638+00:00   1   1  \n",
       "2025-01-06 14:54:09.659062+00:00   1   1  \n",
       "2025-01-07 14:37:09.217248+00:00   1   1  \n",
       "...                               ..  ..  \n",
       "2025-09-22 06:00:16.600500+00:00   1   1  \n",
       "2025-09-25 12:30:00.083393+00:00   1   1  \n",
       "2025-09-25 17:50:27.578371+00:00   1   1  \n",
       "2025-09-28 22:10:24.601186+00:00   1   1  \n",
       "2025-09-29 14:43:41.630672+00:00   1   1  \n",
       "\n",
       "[440 rows x 4 columns]"
      ]
     },
     "execution_count": 496,
     "metadata": {},
     "output_type": "execute_result"
    }
   ],
   "source": [
    "triple_barrier_events"
   ]
  },
  {
   "cell_type": "code",
   "execution_count": 497,
   "id": "25707403",
   "metadata": {},
   "outputs": [],
   "source": [
    "from mlfinpy.labeling import get_bins\n",
    "meta_labels = get_bins(triple_barrier_events, df['close'])"
   ]
  },
  {
   "cell_type": "code",
   "execution_count": 498,
   "id": "4800fe4f",
   "metadata": {},
   "outputs": [
    {
     "name": "stdout",
     "output_type": "stream",
     "text": [
      "dropped label:  0 0.08181818181818182\n"
     ]
    }
   ],
   "source": [
    "clean_meta_labels = drop_labels(meta_labels, min_pct=0.1)"
   ]
  },
  {
   "cell_type": "code",
   "execution_count": 499,
   "id": "760e9a40",
   "metadata": {},
   "outputs": [
    {
     "data": {
      "text/plain": [
       "bin\n",
       " 1    205\n",
       "-1    199\n",
       " 0     36\n",
       "Name: count, dtype: int64"
      ]
     },
     "execution_count": 499,
     "metadata": {},
     "output_type": "execute_result"
    }
   ],
   "source": [
    "meta_labels.bin.value_counts()"
   ]
  },
  {
   "cell_type": "code",
   "execution_count": 500,
   "id": "482755be",
   "metadata": {},
   "outputs": [
    {
     "data": {
      "text/plain": [
       "bin\n",
       " 1    205\n",
       "-1    199\n",
       "Name: count, dtype: int64"
      ]
     },
     "execution_count": 500,
     "metadata": {},
     "output_type": "execute_result"
    }
   ],
   "source": [
    "clean_meta_labels.bin.value_counts()"
   ]
  },
  {
   "cell_type": "code",
   "execution_count": 501,
   "id": "1b521688",
   "metadata": {},
   "outputs": [
    {
     "data": {
      "text/html": [
       "<div>\n",
       "<style scoped>\n",
       "    .dataframe tbody tr th:only-of-type {\n",
       "        vertical-align: middle;\n",
       "    }\n",
       "\n",
       "    .dataframe tbody tr th {\n",
       "        vertical-align: top;\n",
       "    }\n",
       "\n",
       "    .dataframe thead th {\n",
       "        text-align: right;\n",
       "    }\n",
       "</style>\n",
       "<table border=\"1\" class=\"dataframe\">\n",
       "  <thead>\n",
       "    <tr style=\"text-align: right;\">\n",
       "      <th></th>\n",
       "      <th>ret</th>\n",
       "      <th>trgt</th>\n",
       "      <th>bin</th>\n",
       "    </tr>\n",
       "  </thead>\n",
       "  <tbody>\n",
       "    <tr>\n",
       "      <th>2025-01-06 05:40:00.846638+00:00</th>\n",
       "      <td>-0.006516</td>\n",
       "      <td>0.006006</td>\n",
       "      <td>-1</td>\n",
       "    </tr>\n",
       "    <tr>\n",
       "      <th>2025-01-06 14:54:09.659062+00:00</th>\n",
       "      <td>0.013930</td>\n",
       "      <td>0.010038</td>\n",
       "      <td>1</td>\n",
       "    </tr>\n",
       "    <tr>\n",
       "      <th>2025-01-07 14:37:09.217248+00:00</th>\n",
       "      <td>-0.013160</td>\n",
       "      <td>0.010228</td>\n",
       "      <td>-1</td>\n",
       "    </tr>\n",
       "    <tr>\n",
       "      <th>2025-01-07 15:34:07.286287+00:00</th>\n",
       "      <td>-0.025968</td>\n",
       "      <td>0.024445</td>\n",
       "      <td>-1</td>\n",
       "    </tr>\n",
       "    <tr>\n",
       "      <th>2025-01-08 06:33:08.351718+00:00</th>\n",
       "      <td>-0.013903</td>\n",
       "      <td>0.012384</td>\n",
       "      <td>-1</td>\n",
       "    </tr>\n",
       "    <tr>\n",
       "      <th>...</th>\n",
       "      <td>...</td>\n",
       "      <td>...</td>\n",
       "      <td>...</td>\n",
       "    </tr>\n",
       "    <tr>\n",
       "      <th>2025-09-17 06:05:41.713556+00:00</th>\n",
       "      <td>-0.007480</td>\n",
       "      <td>0.007196</td>\n",
       "      <td>-1</td>\n",
       "    </tr>\n",
       "    <tr>\n",
       "      <th>2025-09-18 03:15:37.879647+00:00</th>\n",
       "      <td>-0.007497</td>\n",
       "      <td>0.007320</td>\n",
       "      <td>-1</td>\n",
       "    </tr>\n",
       "    <tr>\n",
       "      <th>2025-09-22 06:00:16.600500+00:00</th>\n",
       "      <td>-0.007499</td>\n",
       "      <td>0.006751</td>\n",
       "      <td>-1</td>\n",
       "    </tr>\n",
       "    <tr>\n",
       "      <th>2025-09-25 12:30:00.083393+00:00</th>\n",
       "      <td>-0.009687</td>\n",
       "      <td>0.008702</td>\n",
       "      <td>-1</td>\n",
       "    </tr>\n",
       "    <tr>\n",
       "      <th>2025-09-28 22:10:24.601186+00:00</th>\n",
       "      <td>0.012835</td>\n",
       "      <td>0.011553</td>\n",
       "      <td>1</td>\n",
       "    </tr>\n",
       "  </tbody>\n",
       "</table>\n",
       "<p>404 rows × 3 columns</p>\n",
       "</div>"
      ],
      "text/plain": [
       "                                       ret      trgt  bin\n",
       "2025-01-06 05:40:00.846638+00:00 -0.006516  0.006006   -1\n",
       "2025-01-06 14:54:09.659062+00:00  0.013930  0.010038    1\n",
       "2025-01-07 14:37:09.217248+00:00 -0.013160  0.010228   -1\n",
       "2025-01-07 15:34:07.286287+00:00 -0.025968  0.024445   -1\n",
       "2025-01-08 06:33:08.351718+00:00 -0.013903  0.012384   -1\n",
       "...                                    ...       ...  ...\n",
       "2025-09-17 06:05:41.713556+00:00 -0.007480  0.007196   -1\n",
       "2025-09-18 03:15:37.879647+00:00 -0.007497  0.007320   -1\n",
       "2025-09-22 06:00:16.600500+00:00 -0.007499  0.006751   -1\n",
       "2025-09-25 12:30:00.083393+00:00 -0.009687  0.008702   -1\n",
       "2025-09-28 22:10:24.601186+00:00  0.012835  0.011553    1\n",
       "\n",
       "[404 rows x 3 columns]"
      ]
     },
     "execution_count": 501,
     "metadata": {},
     "output_type": "execute_result"
    }
   ],
   "source": [
    "clean_meta_labels"
   ]
  },
  {
   "cell_type": "code",
   "execution_count": 502,
   "id": "52d8ba4d",
   "metadata": {},
   "outputs": [],
   "source": [
    "first_model_data = pd.concat([df,clean_meta_labels],axis=1).dropna()"
   ]
  },
  {
   "cell_type": "code",
   "execution_count": 503,
   "id": "264197da",
   "metadata": {},
   "outputs": [
    {
     "data": {
      "text/html": [
       "<div>\n",
       "<style scoped>\n",
       "    .dataframe tbody tr th:only-of-type {\n",
       "        vertical-align: middle;\n",
       "    }\n",
       "\n",
       "    .dataframe tbody tr th {\n",
       "        vertical-align: top;\n",
       "    }\n",
       "\n",
       "    .dataframe thead th {\n",
       "        text-align: right;\n",
       "    }\n",
       "</style>\n",
       "<table border=\"1\" class=\"dataframe\">\n",
       "  <thead>\n",
       "    <tr style=\"text-align: right;\">\n",
       "      <th></th>\n",
       "      <th>tick_num</th>\n",
       "      <th>open</th>\n",
       "      <th>high</th>\n",
       "      <th>low</th>\n",
       "      <th>close</th>\n",
       "      <th>volume</th>\n",
       "      <th>cum_buy_volume</th>\n",
       "      <th>cum_ticks</th>\n",
       "      <th>cum_dollar_value</th>\n",
       "      <th>ret</th>\n",
       "      <th>trgt</th>\n",
       "      <th>bin</th>\n",
       "    </tr>\n",
       "  </thead>\n",
       "  <tbody>\n",
       "    <tr>\n",
       "      <th>2025-01-06 05:40:00.846638+00:00</th>\n",
       "      <td>12071294</td>\n",
       "      <td>99532.47</td>\n",
       "      <td>99826.36</td>\n",
       "      <td>99532.46</td>\n",
       "      <td>99726.77</td>\n",
       "      <td>290.35685</td>\n",
       "      <td>179.67072</td>\n",
       "      <td>38703</td>\n",
       "      <td>2.895273e+07</td>\n",
       "      <td>-0.006516</td>\n",
       "      <td>0.006006</td>\n",
       "      <td>-1.0</td>\n",
       "    </tr>\n",
       "    <tr>\n",
       "      <th>2025-01-06 14:54:09.659062+00:00</th>\n",
       "      <td>13444322</td>\n",
       "      <td>100729.89</td>\n",
       "      <td>101000.00</td>\n",
       "      <td>100637.31</td>\n",
       "      <td>101000.00</td>\n",
       "      <td>290.03452</td>\n",
       "      <td>185.60305</td>\n",
       "      <td>31685</td>\n",
       "      <td>2.925004e+07</td>\n",
       "      <td>0.013930</td>\n",
       "      <td>0.010038</td>\n",
       "      <td>1.0</td>\n",
       "    </tr>\n",
       "    <tr>\n",
       "      <th>2025-01-07 14:37:09.217248+00:00</th>\n",
       "      <td>16321709</td>\n",
       "      <td>100668.01</td>\n",
       "      <td>100668.02</td>\n",
       "      <td>100207.76</td>\n",
       "      <td>100211.00</td>\n",
       "      <td>290.07701</td>\n",
       "      <td>88.04853</td>\n",
       "      <td>37363</td>\n",
       "      <td>2.912670e+07</td>\n",
       "      <td>-0.013160</td>\n",
       "      <td>0.010228</td>\n",
       "      <td>-1.0</td>\n",
       "    </tr>\n",
       "    <tr>\n",
       "      <th>2025-01-07 15:34:07.286287+00:00</th>\n",
       "      <td>16980017</td>\n",
       "      <td>98538.99</td>\n",
       "      <td>98546.55</td>\n",
       "      <td>98250.00</td>\n",
       "      <td>98307.50</td>\n",
       "      <td>290.02242</td>\n",
       "      <td>129.14338</td>\n",
       "      <td>27972</td>\n",
       "      <td>2.853156e+07</td>\n",
       "      <td>-0.025968</td>\n",
       "      <td>0.024445</td>\n",
       "      <td>-1.0</td>\n",
       "    </tr>\n",
       "    <tr>\n",
       "      <th>2025-01-08 06:33:08.351718+00:00</th>\n",
       "      <td>20355442</td>\n",
       "      <td>96187.64</td>\n",
       "      <td>96194.76</td>\n",
       "      <td>95692.00</td>\n",
       "      <td>95754.63</td>\n",
       "      <td>290.00107</td>\n",
       "      <td>72.05013</td>\n",
       "      <td>24678</td>\n",
       "      <td>2.782366e+07</td>\n",
       "      <td>-0.013903</td>\n",
       "      <td>0.012384</td>\n",
       "      <td>-1.0</td>\n",
       "    </tr>\n",
       "  </tbody>\n",
       "</table>\n",
       "</div>"
      ],
      "text/plain": [
       "                                  tick_num       open       high        low  \\\n",
       "2025-01-06 05:40:00.846638+00:00  12071294   99532.47   99826.36   99532.46   \n",
       "2025-01-06 14:54:09.659062+00:00  13444322  100729.89  101000.00  100637.31   \n",
       "2025-01-07 14:37:09.217248+00:00  16321709  100668.01  100668.02  100207.76   \n",
       "2025-01-07 15:34:07.286287+00:00  16980017   98538.99   98546.55   98250.00   \n",
       "2025-01-08 06:33:08.351718+00:00  20355442   96187.64   96194.76   95692.00   \n",
       "\n",
       "                                      close     volume  cum_buy_volume  \\\n",
       "2025-01-06 05:40:00.846638+00:00   99726.77  290.35685       179.67072   \n",
       "2025-01-06 14:54:09.659062+00:00  101000.00  290.03452       185.60305   \n",
       "2025-01-07 14:37:09.217248+00:00  100211.00  290.07701        88.04853   \n",
       "2025-01-07 15:34:07.286287+00:00   98307.50  290.02242       129.14338   \n",
       "2025-01-08 06:33:08.351718+00:00   95754.63  290.00107        72.05013   \n",
       "\n",
       "                                  cum_ticks  cum_dollar_value       ret  \\\n",
       "2025-01-06 05:40:00.846638+00:00      38703      2.895273e+07 -0.006516   \n",
       "2025-01-06 14:54:09.659062+00:00      31685      2.925004e+07  0.013930   \n",
       "2025-01-07 14:37:09.217248+00:00      37363      2.912670e+07 -0.013160   \n",
       "2025-01-07 15:34:07.286287+00:00      27972      2.853156e+07 -0.025968   \n",
       "2025-01-08 06:33:08.351718+00:00      24678      2.782366e+07 -0.013903   \n",
       "\n",
       "                                      trgt  bin  \n",
       "2025-01-06 05:40:00.846638+00:00  0.006006 -1.0  \n",
       "2025-01-06 14:54:09.659062+00:00  0.010038  1.0  \n",
       "2025-01-07 14:37:09.217248+00:00  0.010228 -1.0  \n",
       "2025-01-07 15:34:07.286287+00:00  0.024445 -1.0  \n",
       "2025-01-08 06:33:08.351718+00:00  0.012384 -1.0  "
      ]
     },
     "execution_count": 503,
     "metadata": {},
     "output_type": "execute_result"
    }
   ],
   "source": [
    "first_model_data = first_model_data.sort_index()\n",
    "# first_model_data = first_model_data.drop(['ret'],axis=1)\n",
    "# first_model_data = first_model_data.drop(['trgt'],axis=1)\n",
    "first_model_data.head()"
   ]
  },
  {
   "cell_type": "code",
   "execution_count": 504,
   "id": "6808fd05",
   "metadata": {},
   "outputs": [],
   "source": [
    "split_idx = int(len(first_model_data) * 0.8)"
   ]
  },
  {
   "cell_type": "code",
   "execution_count": 505,
   "id": "cf7a95c9",
   "metadata": {},
   "outputs": [
    {
     "name": "stdout",
     "output_type": "stream",
     "text": [
      "Train interval: 2025-01-06 05:40:00.846638+00:00 → 2025-05-25 08:50:40.882855+00:00\n",
      "Test  interval: 2025-05-25 23:00:12.625691+00:00  → 2025-09-28 22:10:24.601186+00:00\n"
     ]
    }
   ],
   "source": [
    "first_model_data = first_model_data.sort_index()\n",
    "\n",
    "split_idx = int(len(first_model_data) * 0.8)\n",
    "\n",
    "train = first_model_data.iloc[:split_idx].copy()\n",
    "test  = first_model_data.iloc[split_idx:].copy()\n",
    "\n",
    "print(f\"Train interval: {train.index.min()} → {train.index.max()}\")\n",
    "print(f\"Test  interval: {test.index.min()}  → {test.index.max()}\")"
   ]
  },
  {
   "cell_type": "code",
   "execution_count": 506,
   "id": "29f47181",
   "metadata": {},
   "outputs": [],
   "source": [
    "features = [\n",
    "    'open', 'high', 'low', 'close', 'volume',\n",
    "    'cum_buy_volume', 'cum_ticks', 'cum_dollar_value', 'trgt',\n",
    "]\n",
    "\n",
    "X_train, y_train = train[features], train['bin']\n",
    "X_test, y_test = test[features], test['bin']"
   ]
  },
  {
   "cell_type": "code",
   "execution_count": 507,
   "id": "ef016b51",
   "metadata": {},
   "outputs": [
    {
     "name": "stdout",
     "output_type": "stream",
     "text": [
      "[[42  4]\n",
      " [25 10]]\n",
      "              precision    recall  f1-score   support\n",
      "\n",
      "        -1.0      0.627     0.913     0.743        46\n",
      "         1.0      0.714     0.286     0.408        35\n",
      "\n",
      "    accuracy                          0.642        81\n",
      "   macro avg      0.671     0.599     0.576        81\n",
      "weighted avg      0.665     0.642     0.599        81\n",
      "\n"
     ]
    }
   ],
   "source": [
    "from sklearn.ensemble import RandomForestClassifier\n",
    "from sklearn.metrics import classification_report, confusion_matrix\n",
    "\n",
    "rf = RandomForestClassifier(\n",
    "    n_estimators=300,\n",
    "    max_depth=6,\n",
    "    class_weight='balanced',  \n",
    "    random_state=42,\n",
    "    n_jobs=-1\n",
    ")\n",
    "\n",
    "rf.fit(X_train, y_train)\n",
    "y_pred = rf.predict(X_test)\n",
    "\n",
    "# evaluare\n",
    "print(confusion_matrix(y_test, y_pred))\n",
    "print(classification_report(y_test, y_pred, digits=3))"
   ]
  },
  {
   "cell_type": "code",
   "execution_count": 508,
   "id": "c66e028d",
   "metadata": {},
   "outputs": [],
   "source": [
    "from sklearn.metrics import roc_curve, auc, roc_auc_score\n",
    "import matplotlib.pyplot as plt"
   ]
  },
  {
   "cell_type": "code",
   "execution_count": 509,
   "id": "bcb39114",
   "metadata": {},
   "outputs": [
    {
     "name": "stdout",
     "output_type": "stream",
     "text": [
      "AUC Score: 0.581\n"
     ]
    },
    {
     "data": {
      "image/png": "[encoded data removed]",
      "text/plain": [
       "<Figure size 700x600 with 1 Axes>"
      ]
     },
     "metadata": {},
     "output_type": "display_data"
    }
   ],
   "source": [
    "y_prob = rf.predict_proba(X_test)[:, 1]\n",
    "fpr, tpr, thresholds = roc_curve(y_test, y_prob, pos_label=1)\n",
    "roc_auc = auc(fpr, tpr)\n",
    "print(f\"AUC Score: {roc_auc:.3f}\")\n",
    "\n",
    "plt.figure(figsize=(7, 6))\n",
    "plt.plot(fpr, tpr, color='blue', lw=2, label=f'Random Forest (AUC = {roc_auc:.3f})')\n",
    "plt.plot([0, 1], [0, 1], color='gray', lw=1, linestyle='--', label='No Skill')\n",
    "plt.xlabel('False Positive Rate')\n",
    "plt.ylabel('True Positive Rate')\n",
    "plt.title('ROC Curve')\n",
    "plt.legend(loc='lower right')\n",
    "plt.grid(True, alpha=0.3)\n",
    "plt.tight_layout()\n",
    "plt.show()"
   ]
  },
  {
   "cell_type": "code",
   "execution_count": 510,
   "id": "1160f728",
   "metadata": {},
   "outputs": [],
   "source": [
    "first_model_data['ret_1'] = first_model_data['close'].pct_change(1)\n",
    "first_model_data['ret_5'] = first_model_data['close'].pct_change(5)\n",
    "\n",
    "first_model_data['ma_fast'] = first_model_data['close'].rolling(10).mean()\n",
    "first_model_data['ma_slow'] = first_model_data['close'].rolling(50).mean()\n",
    "first_model_data['ma_ratio'] = first_model_data['ma_fast'] / first_model_data['ma_slow'] - 1\n",
    "\n",
    "first_model_data['vol_chg'] = first_model_data['volume'].pct_change(1)\n",
    "first_model_data['hl_spread'] = (first_model_data['high'] - first_model_data['low']) / first_model_data['close']\n",
    "\n",
    "\n",
    "\n",
    "ema_12 = first_model_data['close'].ewm(span=12, adjust=False).mean()\n",
    "ema_26 = first_model_data['close'].ewm(span=26, adjust=False).mean()\n",
    "first_model_data['macd'] = ema_12 - ema_26\n",
    "first_model_data['macd_signal'] = first_model_data['macd'].ewm(span=9, adjust=False).mean()\n",
    "first_model_data['macd_hist'] = first_model_data['macd'] - first_model_data['macd_signal']\n",
    "\n",
    "delta = first_model_data['close'].diff()\n",
    "gain = delta.clip(lower=0)\n",
    "loss = (-delta).clip(lower=0)\n",
    "avg_gain = gain.rolling(14, min_periods=14).mean()\n",
    "avg_loss = loss.rolling(14, min_periods=14).mean()\n",
    "rs = avg_gain / avg_loss.replace(0, np.nan)\n",
    "first_model_data['rsi'] = 100 - (100 / (1 + rs))\n",
    "\n",
    "\n",
    "first_model_data['trend_strength'] = (first_model_data['ma_fast'] - first_model_data['ma_slow']) / first_model_data['ma_slow']\n",
    "first_model_data['price_above_ma'] = (first_model_data['close'] > first_model_data['ma_slow']).astype(int)\n",
    "\n",
    "first_model_data = first_model_data.dropna()\n",
    "\n",
    "\n",
    "split_idx = int(len(first_model_data) * 0.8)\n",
    "train = first_model_data.iloc[:split_idx]\n",
    "test  = first_model_data.iloc[split_idx:]\n",
    "\n",
    "features = [\n",
    "    'open','high','low','close','volume',\n",
    "    'cum_buy_volume','cum_ticks','cum_dollar_value',\n",
    "    'ret_1','ret_5','ma_ratio','vol_chg','hl_spread',\n",
    "    'macd','macd_signal','macd_hist',\n",
    "    'rsi','trend_strength','price_above_ma','trgt'\n",
    "]\n",
    "\n",
    "X_train, y_train = train[features], train['bin']\n",
    "X_test,  y_test  = test[features],  test['bin']"
   ]
  },
  {
   "cell_type": "code",
   "execution_count": null,
   "id": "d502faf1",
   "metadata": {},
   "outputs": [
    {
     "name": "stdout",
     "output_type": "stream",
     "text": [
      "[[12 27]\n",
      " [ 2 30]]\n",
      "              precision    recall  f1-score   support\n",
      "\n",
      "    neg (-1)      0.857     0.308     0.453        39\n",
      "     pos (1)      0.526     0.938     0.674        32\n",
      "\n",
      "    accuracy                          0.592        71\n",
      "   macro avg      0.692     0.623     0.563        71\n",
      "weighted avg      0.708     0.592     0.553        71\n",
      "\n",
      "AUC (train): 0.979\n",
      "AUC (test):  0.705\n"
     ]
    }
   ],
   "source": [
    "from sklearn.ensemble import RandomForestClassifier\n",
    "from sklearn.metrics import confusion_matrix, classification_report, roc_auc_score\n",
    "import numpy as np\n",
    "\n",
    "rf_features = RandomForestClassifier(\n",
    "    bootstrap=True,\n",
    "    class_weight='balanced',\n",
    "    max_depth=4,\n",
    "    max_features=0.5,\n",
    "    min_samples_leaf=2,\n",
    "    min_samples_split=2,\n",
    "    n_estimators=100,\n",
    "    n_jobs=-1,\n",
    "    random_state=42\n",
    ")\n",
    "\n",
    "rf_features.fit(X_train, y_train)\n",
    "\n",
    "\n",
    "y_proba_test = rf_features.predict_proba(X_test)[:, 1]\n",
    "threshold = 0.4\n",
    "y_pred = np.where(y_proba_test > threshold, 1, -1)\n",
    "\n",
    "\n",
    "print(confusion_matrix(y_test, y_pred, labels=[-1, 1]))\n",
    "print(classification_report(y_test, y_pred, labels=[-1, 1],\n",
    "                            target_names=['neg (-1)', 'pos (1)'], digits=3))\n",
    "\n",
    "y_proba_train = rf_features.predict_proba(X_train)[:, 1]\n",
    "train_auc = roc_auc_score(y_train, y_proba_train)\n",
    "test_auc  = roc_auc_score(y_test,  y_proba_test)\n",
    "\n",
    "print(f\"AUC (train): {train_auc:.3f}\")\n",
    "print(f\"AUC (test):  {test_auc:.3f}\")"
   ]
  },
  {
   "cell_type": "code",
   "execution_count": 534,
   "id": "e8a3e303",
   "metadata": {},
   "outputs": [
    {
     "name": "stdout",
     "output_type": "stream",
     "text": [
      "AUC Score: 0.660\n"
     ]
    },
    {
     "data": {
      "image/png": "[encoded data removed]",
      "text/plain": [
       "<Figure size 700x600 with 1 Axes>"
      ]
     },
     "metadata": {},
     "output_type": "display_data"
    }
   ],
   "source": [
    "y_prob = rf_features.predict_proba(X_test)[:, 1]\n",
    "fpr, tpr, thresholds = roc_curve(y_test, y_prob, pos_label=1)\n",
    "roc_auc = auc(fpr, tpr)\n",
    "print(f\"AUC Score: {roc_auc:.3f}\")\n",
    "\n",
    "plt.figure(figsize=(7, 6))\n",
    "plt.plot(fpr, tpr, color='blue', lw=2, label=f'Random Forest (AUC = {roc_auc:.3f})')\n",
    "plt.plot([0, 1], [0, 1], color='gray', lw=1, linestyle='--', label='No Skill')\n",
    "plt.xlabel('False Positive Rate')\n",
    "plt.ylabel('True Positive Rate')\n",
    "plt.title('ROC Curve')\n",
    "plt.legend(loc='lower right')\n",
    "plt.grid(True, alpha=0.3)\n",
    "plt.tight_layout()\n",
    "plt.show()"
   ]
  },
  {
   "cell_type": "code",
   "execution_count": 513,
   "id": "1d1be2e8",
   "metadata": {},
   "outputs": [
    {
     "name": "stdout",
     "output_type": "stream",
     "text": [
      "[[25 14]\n",
      " [14 18]]\n",
      "              precision    recall  f1-score   support\n",
      "\n",
      "        -1.0      0.641     0.641     0.641        39\n",
      "         1.0      0.562     0.562     0.562        32\n",
      "\n",
      "    accuracy                          0.606        71\n",
      "   macro avg      0.602     0.602     0.602        71\n",
      "weighted avg      0.606     0.606     0.606        71\n",
      "\n",
      "AUC Score: 0.624\n"
     ]
    },
    {
     "data": {
      "image/png": "[encoded data removed]",
      "text/plain": [
       "<Figure size 700x600 with 1 Axes>"
      ]
     },
     "metadata": {},
     "output_type": "display_data"
    }
   ],
   "source": [
    "from lightgbm import LGBMClassifier\n",
    "from sklearn.metrics import confusion_matrix, classification_report, roc_curve, auc\n",
    "\n",
    "\n",
    "y_train_bin = (y_train == 1).astype(int)\n",
    "y_test_bin  = (y_test  == 1).astype(int)\n",
    "\n",
    "\n",
    "lgbm = LGBMClassifier(\n",
    "    n_estimators=300,\n",
    "    max_depth=8,\n",
    "    learning_rate=0.05,\n",
    "    subsample=0.8,\n",
    "    colsample_bytree=0.8,\n",
    "    class_weight='balanced',\n",
    "    objective='binary',\n",
    "    random_state=42,\n",
    "    n_jobs=-1,\n",
    "    verbose=-1\n",
    ")\n",
    "\n",
    "\n",
    "lgbm.fit(X_train, y_train_bin)\n",
    "\n",
    "\n",
    "y_proba = lgbm.predict_proba(X_test)[:, 1]\n",
    "threshold = 0.4\n",
    "\n",
    "y_pred = np.where(y_proba > threshold, 1, -1)\n",
    "\n",
    "\n",
    "print(confusion_matrix(y_test, y_pred))\n",
    "print(classification_report(y_test, y_pred, digits=3))\n",
    "\n",
    "\n",
    "fpr, tpr, thresholds = roc_curve(y_test_bin, y_proba, pos_label=1)\n",
    "roc_auc = auc(fpr, tpr)\n",
    "print(f\"AUC Score: {roc_auc:.3f}\")\n",
    "\n",
    "\n",
    "plt.figure(figsize=(7, 6))\n",
    "plt.plot(fpr, tpr, lw=2, label=f'LightGBM (AUC = {roc_auc:.3f})')\n",
    "plt.plot([0, 1], [0, 1], lw=1, linestyle='--', label='No Skill')\n",
    "plt.xlabel('False Positive Rate')\n",
    "plt.ylabel('True Positive Rate')\n",
    "plt.title('ROC Curve')\n",
    "plt.legend(loc='lower right')\n",
    "plt.grid(True, alpha=0.3)\n",
    "plt.tight_layout()\n",
    "plt.show()"
   ]
  },
  {
   "cell_type": "code",
   "execution_count": 514,
   "id": "2ad7bd6f",
   "metadata": {},
   "outputs": [
    {
     "data": {
      "text/plain": [
       "(284, 20)"
      ]
     },
     "execution_count": 514,
     "metadata": {},
     "output_type": "execute_result"
    }
   ],
   "source": [
    "X_train.shape"
   ]
  },
  {
   "cell_type": "code",
   "execution_count": 375,
   "id": "de1029ef",
   "metadata": {},
   "outputs": [
    {
     "data": {
      "text/plain": [
       "(507, 20)"
      ]
     },
     "execution_count": 375,
     "metadata": {},
     "output_type": "execute_result"
    }
   ],
   "source": [
    "X_test.shape"
   ]
  },
  {
   "cell_type": "code",
   "execution_count": null,
   "id": "8f091c96",
   "metadata": {},
   "outputs": [],
   "source": []
  }
 ],
 "metadata": {
  "kernelspec": {
   "display_name": "disertatie",
   "language": "python",
   "name": "python3"
  },
  "language_info": {
   "codemirror_mode": {
    "name": "ipython",
    "version": 3
   },
   "file_extension": ".py",
   "mimetype": "text/x-python",
   "name": "python",
   "nbconvert_exporter": "python",
   "pygments_lexer": "ipython3",
   "version": "3.11.11"
  }
 },
 "nbformat": 4,
 "nbformat_minor": 5
}
